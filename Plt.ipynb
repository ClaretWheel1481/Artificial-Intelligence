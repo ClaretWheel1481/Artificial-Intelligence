{
  "cells": [
    {
      "cell_type": "markdown",
      "metadata": {
        "id": "view-in-github",
        "colab_type": "text"
      },
      "source": [
        "<a href=\"https://colab.research.google.com/github/ClaretWheel1481/Artificial-Intelligence/blob/main/Plt.ipynb\" target=\"_parent\"><img src=\"https://colab.research.google.com/assets/colab-badge.svg\" alt=\"Open In Colab\"/></a>"
      ]
    },
    {
      "cell_type": "code",
      "execution_count": null,
      "id": "745ce633-591b-4c58-be40-6f731cb5008a",
      "metadata": {
        "scrolled": true,
        "id": "745ce633-591b-4c58-be40-6f731cb5008a",
        "outputId": "83b06445-c072-4bad-efcb-f75766179a90",
        "colab": {
          "base_uri": "https://localhost:8080/",
          "height": 678
        }
      },
      "outputs": [
        {
          "output_type": "execute_result",
          "data": {
            "text/plain": [
              "     order_id  order_date order_time        cat attribution      pro_id  \\\n",
              "0  4277880103  2013-10-17   13:09:16        NaN          GO  8000001215   \n",
              "1  4283851335  2013-09-23   14:09:49     手机摄影数码         POP  8002042497   \n",
              "2  4277700101  2013-08-27   14:26:38        NaN          GO  7000000960   \n",
              "3  4276537082  2013-09-11   14:16:47  电视冰箱洗衣机空调         POP  8001992420   \n",
              "4  4281111595  2013-04-10   10:44:46       家具建材         POP  8002199518   \n",
              "5  3977175284  2013-03-13   23:26:19     手机摄影数码         POP  8002237611   \n",
              "6  4106833871  2013-04-21   16:47:34       家居日用         POP  8002212182   \n",
              "7  4245023523  2013-03-30   10:39:56       家具建材         POP  8002199518   \n",
              "8  4253622967  2013-01-27   21:15:59   电脑办公打印文仪         POP  8001748897   \n",
              "9  4276159555  2013-05-26   16:49:49       家居日用          GO  1000341307   \n",
              "\n",
              "  pro_brand  total_money  total_quantity order_source pay_type      use_id  \\\n",
              "0       NaN       1000.0            1000         游戏站点     当当支付  murongchun   \n",
              "1        三星     766000.0             200           主站     合并支付   dakehu_zy   \n",
              "2    国之美艺术品       8000.0             160   do.site_id     在线支付  1391175862   \n",
              "3        樱花      19900.0             100           主站     合并支付  qq-3be293b   \n",
              "4      纬度空间        100.0             100           主站     合并支付  nonscorpio   \n",
              "5       伊斯贝        990.0             100           主站     合并支付  swt6263122   \n",
              "6      品道天元       8800.0             100           主站     合并支付  qq-edf69d7   \n",
              "7      纬度空间        100.0             100           主站     合并支付  nonscorpio   \n",
              "8      清华同方        880.0             100           主站     合并支付  benson2570   \n",
              "9      乐扣乐扣       4900.0             100           主站     合并支付   dakehu_zy   \n",
              "\n",
              "  city  abnormal_label  \n",
              "0  北京市               0  \n",
              "1  上海市               1  \n",
              "2  NaN               1  \n",
              "3  泉州市               1  \n",
              "4  广州市               1  \n",
              "5  宁德市               0  \n",
              "6  深圳市               0  \n",
              "7  广州市               0  \n",
              "8  宿迁市               0  \n",
              "9  西安市               0  "
            ],
            "text/html": [
              "\n",
              "  <div id=\"df-aae64183-9437-45b2-a488-53d135416621\" class=\"colab-df-container\">\n",
              "    <div>\n",
              "<style scoped>\n",
              "    .dataframe tbody tr th:only-of-type {\n",
              "        vertical-align: middle;\n",
              "    }\n",
              "\n",
              "    .dataframe tbody tr th {\n",
              "        vertical-align: top;\n",
              "    }\n",
              "\n",
              "    .dataframe thead th {\n",
              "        text-align: right;\n",
              "    }\n",
              "</style>\n",
              "<table border=\"1\" class=\"dataframe\">\n",
              "  <thead>\n",
              "    <tr style=\"text-align: right;\">\n",
              "      <th></th>\n",
              "      <th>order_id</th>\n",
              "      <th>order_date</th>\n",
              "      <th>order_time</th>\n",
              "      <th>cat</th>\n",
              "      <th>attribution</th>\n",
              "      <th>pro_id</th>\n",
              "      <th>pro_brand</th>\n",
              "      <th>total_money</th>\n",
              "      <th>total_quantity</th>\n",
              "      <th>order_source</th>\n",
              "      <th>pay_type</th>\n",
              "      <th>use_id</th>\n",
              "      <th>city</th>\n",
              "      <th>abnormal_label</th>\n",
              "    </tr>\n",
              "  </thead>\n",
              "  <tbody>\n",
              "    <tr>\n",
              "      <th>0</th>\n",
              "      <td>4277880103</td>\n",
              "      <td>2013-10-17</td>\n",
              "      <td>13:09:16</td>\n",
              "      <td>NaN</td>\n",
              "      <td>GO</td>\n",
              "      <td>8000001215</td>\n",
              "      <td>NaN</td>\n",
              "      <td>1000.0</td>\n",
              "      <td>1000</td>\n",
              "      <td>游戏站点</td>\n",
              "      <td>当当支付</td>\n",
              "      <td>murongchun</td>\n",
              "      <td>北京市</td>\n",
              "      <td>0</td>\n",
              "    </tr>\n",
              "    <tr>\n",
              "      <th>1</th>\n",
              "      <td>4283851335</td>\n",
              "      <td>2013-09-23</td>\n",
              "      <td>14:09:49</td>\n",
              "      <td>手机摄影数码</td>\n",
              "      <td>POP</td>\n",
              "      <td>8002042497</td>\n",
              "      <td>三星</td>\n",
              "      <td>766000.0</td>\n",
              "      <td>200</td>\n",
              "      <td>主站</td>\n",
              "      <td>合并支付</td>\n",
              "      <td>dakehu_zy</td>\n",
              "      <td>上海市</td>\n",
              "      <td>1</td>\n",
              "    </tr>\n",
              "    <tr>\n",
              "      <th>2</th>\n",
              "      <td>4277700101</td>\n",
              "      <td>2013-08-27</td>\n",
              "      <td>14:26:38</td>\n",
              "      <td>NaN</td>\n",
              "      <td>GO</td>\n",
              "      <td>7000000960</td>\n",
              "      <td>国之美艺术品</td>\n",
              "      <td>8000.0</td>\n",
              "      <td>160</td>\n",
              "      <td>do.site_id</td>\n",
              "      <td>在线支付</td>\n",
              "      <td>1391175862</td>\n",
              "      <td>NaN</td>\n",
              "      <td>1</td>\n",
              "    </tr>\n",
              "    <tr>\n",
              "      <th>3</th>\n",
              "      <td>4276537082</td>\n",
              "      <td>2013-09-11</td>\n",
              "      <td>14:16:47</td>\n",
              "      <td>电视冰箱洗衣机空调</td>\n",
              "      <td>POP</td>\n",
              "      <td>8001992420</td>\n",
              "      <td>樱花</td>\n",
              "      <td>19900.0</td>\n",
              "      <td>100</td>\n",
              "      <td>主站</td>\n",
              "      <td>合并支付</td>\n",
              "      <td>qq-3be293b</td>\n",
              "      <td>泉州市</td>\n",
              "      <td>1</td>\n",
              "    </tr>\n",
              "    <tr>\n",
              "      <th>4</th>\n",
              "      <td>4281111595</td>\n",
              "      <td>2013-04-10</td>\n",
              "      <td>10:44:46</td>\n",
              "      <td>家具建材</td>\n",
              "      <td>POP</td>\n",
              "      <td>8002199518</td>\n",
              "      <td>纬度空间</td>\n",
              "      <td>100.0</td>\n",
              "      <td>100</td>\n",
              "      <td>主站</td>\n",
              "      <td>合并支付</td>\n",
              "      <td>nonscorpio</td>\n",
              "      <td>广州市</td>\n",
              "      <td>1</td>\n",
              "    </tr>\n",
              "    <tr>\n",
              "      <th>5</th>\n",
              "      <td>3977175284</td>\n",
              "      <td>2013-03-13</td>\n",
              "      <td>23:26:19</td>\n",
              "      <td>手机摄影数码</td>\n",
              "      <td>POP</td>\n",
              "      <td>8002237611</td>\n",
              "      <td>伊斯贝</td>\n",
              "      <td>990.0</td>\n",
              "      <td>100</td>\n",
              "      <td>主站</td>\n",
              "      <td>合并支付</td>\n",
              "      <td>swt6263122</td>\n",
              "      <td>宁德市</td>\n",
              "      <td>0</td>\n",
              "    </tr>\n",
              "    <tr>\n",
              "      <th>6</th>\n",
              "      <td>4106833871</td>\n",
              "      <td>2013-04-21</td>\n",
              "      <td>16:47:34</td>\n",
              "      <td>家居日用</td>\n",
              "      <td>POP</td>\n",
              "      <td>8002212182</td>\n",
              "      <td>品道天元</td>\n",
              "      <td>8800.0</td>\n",
              "      <td>100</td>\n",
              "      <td>主站</td>\n",
              "      <td>合并支付</td>\n",
              "      <td>qq-edf69d7</td>\n",
              "      <td>深圳市</td>\n",
              "      <td>0</td>\n",
              "    </tr>\n",
              "    <tr>\n",
              "      <th>7</th>\n",
              "      <td>4245023523</td>\n",
              "      <td>2013-03-30</td>\n",
              "      <td>10:39:56</td>\n",
              "      <td>家具建材</td>\n",
              "      <td>POP</td>\n",
              "      <td>8002199518</td>\n",
              "      <td>纬度空间</td>\n",
              "      <td>100.0</td>\n",
              "      <td>100</td>\n",
              "      <td>主站</td>\n",
              "      <td>合并支付</td>\n",
              "      <td>nonscorpio</td>\n",
              "      <td>广州市</td>\n",
              "      <td>0</td>\n",
              "    </tr>\n",
              "    <tr>\n",
              "      <th>8</th>\n",
              "      <td>4253622967</td>\n",
              "      <td>2013-01-27</td>\n",
              "      <td>21:15:59</td>\n",
              "      <td>电脑办公打印文仪</td>\n",
              "      <td>POP</td>\n",
              "      <td>8001748897</td>\n",
              "      <td>清华同方</td>\n",
              "      <td>880.0</td>\n",
              "      <td>100</td>\n",
              "      <td>主站</td>\n",
              "      <td>合并支付</td>\n",
              "      <td>benson2570</td>\n",
              "      <td>宿迁市</td>\n",
              "      <td>0</td>\n",
              "    </tr>\n",
              "    <tr>\n",
              "      <th>9</th>\n",
              "      <td>4276159555</td>\n",
              "      <td>2013-05-26</td>\n",
              "      <td>16:49:49</td>\n",
              "      <td>家居日用</td>\n",
              "      <td>GO</td>\n",
              "      <td>1000341307</td>\n",
              "      <td>乐扣乐扣</td>\n",
              "      <td>4900.0</td>\n",
              "      <td>100</td>\n",
              "      <td>主站</td>\n",
              "      <td>合并支付</td>\n",
              "      <td>dakehu_zy</td>\n",
              "      <td>西安市</td>\n",
              "      <td>0</td>\n",
              "    </tr>\n",
              "  </tbody>\n",
              "</table>\n",
              "</div>\n",
              "    <div class=\"colab-df-buttons\">\n",
              "\n",
              "  <div class=\"colab-df-container\">\n",
              "    <button class=\"colab-df-convert\" onclick=\"convertToInteractive('df-aae64183-9437-45b2-a488-53d135416621')\"\n",
              "            title=\"Convert this dataframe to an interactive table.\"\n",
              "            style=\"display:none;\">\n",
              "\n",
              "  <svg xmlns=\"http://www.w3.org/2000/svg\" height=\"24px\" viewBox=\"0 -960 960 960\">\n",
              "    <path d=\"M120-120v-720h720v720H120Zm60-500h600v-160H180v160Zm220 220h160v-160H400v160Zm0 220h160v-160H400v160ZM180-400h160v-160H180v160Zm440 0h160v-160H620v160ZM180-180h160v-160H180v160Zm440 0h160v-160H620v160Z\"/>\n",
              "  </svg>\n",
              "    </button>\n",
              "\n",
              "  <style>\n",
              "    .colab-df-container {\n",
              "      display:flex;\n",
              "      gap: 12px;\n",
              "    }\n",
              "\n",
              "    .colab-df-convert {\n",
              "      background-color: #E8F0FE;\n",
              "      border: none;\n",
              "      border-radius: 50%;\n",
              "      cursor: pointer;\n",
              "      display: none;\n",
              "      fill: #1967D2;\n",
              "      height: 32px;\n",
              "      padding: 0 0 0 0;\n",
              "      width: 32px;\n",
              "    }\n",
              "\n",
              "    .colab-df-convert:hover {\n",
              "      background-color: #E2EBFA;\n",
              "      box-shadow: 0px 1px 2px rgba(60, 64, 67, 0.3), 0px 1px 3px 1px rgba(60, 64, 67, 0.15);\n",
              "      fill: #174EA6;\n",
              "    }\n",
              "\n",
              "    .colab-df-buttons div {\n",
              "      margin-bottom: 4px;\n",
              "    }\n",
              "\n",
              "    [theme=dark] .colab-df-convert {\n",
              "      background-color: #3B4455;\n",
              "      fill: #D2E3FC;\n",
              "    }\n",
              "\n",
              "    [theme=dark] .colab-df-convert:hover {\n",
              "      background-color: #434B5C;\n",
              "      box-shadow: 0px 1px 3px 1px rgba(0, 0, 0, 0.15);\n",
              "      filter: drop-shadow(0px 1px 2px rgba(0, 0, 0, 0.3));\n",
              "      fill: #FFFFFF;\n",
              "    }\n",
              "  </style>\n",
              "\n",
              "    <script>\n",
              "      const buttonEl =\n",
              "        document.querySelector('#df-aae64183-9437-45b2-a488-53d135416621 button.colab-df-convert');\n",
              "      buttonEl.style.display =\n",
              "        google.colab.kernel.accessAllowed ? 'block' : 'none';\n",
              "\n",
              "      async function convertToInteractive(key) {\n",
              "        const element = document.querySelector('#df-aae64183-9437-45b2-a488-53d135416621');\n",
              "        const dataTable =\n",
              "          await google.colab.kernel.invokeFunction('convertToInteractive',\n",
              "                                                    [key], {});\n",
              "        if (!dataTable) return;\n",
              "\n",
              "        const docLinkHtml = 'Like what you see? Visit the ' +\n",
              "          '<a target=\"_blank\" href=https://colab.research.google.com/notebooks/data_table.ipynb>data table notebook</a>'\n",
              "          + ' to learn more about interactive tables.';\n",
              "        element.innerHTML = '';\n",
              "        dataTable['output_type'] = 'display_data';\n",
              "        await google.colab.output.renderOutput(dataTable, element);\n",
              "        const docLink = document.createElement('div');\n",
              "        docLink.innerHTML = docLinkHtml;\n",
              "        element.appendChild(docLink);\n",
              "      }\n",
              "    </script>\n",
              "  </div>\n",
              "\n",
              "\n",
              "<div id=\"df-ac9930ad-2e3f-43ee-84d1-07f04a887270\">\n",
              "  <button class=\"colab-df-quickchart\" onclick=\"quickchart('df-ac9930ad-2e3f-43ee-84d1-07f04a887270')\"\n",
              "            title=\"Suggest charts\"\n",
              "            style=\"display:none;\">\n",
              "\n",
              "<svg xmlns=\"http://www.w3.org/2000/svg\" height=\"24px\"viewBox=\"0 0 24 24\"\n",
              "     width=\"24px\">\n",
              "    <g>\n",
              "        <path d=\"M19 3H5c-1.1 0-2 .9-2 2v14c0 1.1.9 2 2 2h14c1.1 0 2-.9 2-2V5c0-1.1-.9-2-2-2zM9 17H7v-7h2v7zm4 0h-2V7h2v10zm4 0h-2v-4h2v4z\"/>\n",
              "    </g>\n",
              "</svg>\n",
              "  </button>\n",
              "\n",
              "<style>\n",
              "  .colab-df-quickchart {\n",
              "      --bg-color: #E8F0FE;\n",
              "      --fill-color: #1967D2;\n",
              "      --hover-bg-color: #E2EBFA;\n",
              "      --hover-fill-color: #174EA6;\n",
              "      --disabled-fill-color: #AAA;\n",
              "      --disabled-bg-color: #DDD;\n",
              "  }\n",
              "\n",
              "  [theme=dark] .colab-df-quickchart {\n",
              "      --bg-color: #3B4455;\n",
              "      --fill-color: #D2E3FC;\n",
              "      --hover-bg-color: #434B5C;\n",
              "      --hover-fill-color: #FFFFFF;\n",
              "      --disabled-bg-color: #3B4455;\n",
              "      --disabled-fill-color: #666;\n",
              "  }\n",
              "\n",
              "  .colab-df-quickchart {\n",
              "    background-color: var(--bg-color);\n",
              "    border: none;\n",
              "    border-radius: 50%;\n",
              "    cursor: pointer;\n",
              "    display: none;\n",
              "    fill: var(--fill-color);\n",
              "    height: 32px;\n",
              "    padding: 0;\n",
              "    width: 32px;\n",
              "  }\n",
              "\n",
              "  .colab-df-quickchart:hover {\n",
              "    background-color: var(--hover-bg-color);\n",
              "    box-shadow: 0 1px 2px rgba(60, 64, 67, 0.3), 0 1px 3px 1px rgba(60, 64, 67, 0.15);\n",
              "    fill: var(--button-hover-fill-color);\n",
              "  }\n",
              "\n",
              "  .colab-df-quickchart-complete:disabled,\n",
              "  .colab-df-quickchart-complete:disabled:hover {\n",
              "    background-color: var(--disabled-bg-color);\n",
              "    fill: var(--disabled-fill-color);\n",
              "    box-shadow: none;\n",
              "  }\n",
              "\n",
              "  .colab-df-spinner {\n",
              "    border: 2px solid var(--fill-color);\n",
              "    border-color: transparent;\n",
              "    border-bottom-color: var(--fill-color);\n",
              "    animation:\n",
              "      spin 1s steps(1) infinite;\n",
              "  }\n",
              "\n",
              "  @keyframes spin {\n",
              "    0% {\n",
              "      border-color: transparent;\n",
              "      border-bottom-color: var(--fill-color);\n",
              "      border-left-color: var(--fill-color);\n",
              "    }\n",
              "    20% {\n",
              "      border-color: transparent;\n",
              "      border-left-color: var(--fill-color);\n",
              "      border-top-color: var(--fill-color);\n",
              "    }\n",
              "    30% {\n",
              "      border-color: transparent;\n",
              "      border-left-color: var(--fill-color);\n",
              "      border-top-color: var(--fill-color);\n",
              "      border-right-color: var(--fill-color);\n",
              "    }\n",
              "    40% {\n",
              "      border-color: transparent;\n",
              "      border-right-color: var(--fill-color);\n",
              "      border-top-color: var(--fill-color);\n",
              "    }\n",
              "    60% {\n",
              "      border-color: transparent;\n",
              "      border-right-color: var(--fill-color);\n",
              "    }\n",
              "    80% {\n",
              "      border-color: transparent;\n",
              "      border-right-color: var(--fill-color);\n",
              "      border-bottom-color: var(--fill-color);\n",
              "    }\n",
              "    90% {\n",
              "      border-color: transparent;\n",
              "      border-bottom-color: var(--fill-color);\n",
              "    }\n",
              "  }\n",
              "</style>\n",
              "\n",
              "  <script>\n",
              "    async function quickchart(key) {\n",
              "      const quickchartButtonEl =\n",
              "        document.querySelector('#' + key + ' button');\n",
              "      quickchartButtonEl.disabled = true;  // To prevent multiple clicks.\n",
              "      quickchartButtonEl.classList.add('colab-df-spinner');\n",
              "      try {\n",
              "        const charts = await google.colab.kernel.invokeFunction(\n",
              "            'suggestCharts', [key], {});\n",
              "      } catch (error) {\n",
              "        console.error('Error during call to suggestCharts:', error);\n",
              "      }\n",
              "      quickchartButtonEl.classList.remove('colab-df-spinner');\n",
              "      quickchartButtonEl.classList.add('colab-df-quickchart-complete');\n",
              "    }\n",
              "    (() => {\n",
              "      let quickchartButtonEl =\n",
              "        document.querySelector('#df-ac9930ad-2e3f-43ee-84d1-07f04a887270 button');\n",
              "      quickchartButtonEl.style.display =\n",
              "        google.colab.kernel.accessAllowed ? 'block' : 'none';\n",
              "    })();\n",
              "  </script>\n",
              "</div>\n",
              "\n",
              "    </div>\n",
              "  </div>\n"
            ],
            "application/vnd.google.colaboratory.intrinsic+json": {
              "type": "dataframe",
              "variable_name": "data"
            }
          },
          "metadata": {},
          "execution_count": 2
        }
      ],
      "source": [
        "import pandas as pd\n",
        "import numpy as np\n",
        "import matplotlib.pyplot as plt\n",
        "import seaborn as sns\n",
        "from sklearn.preprocessing import OrdinalEncoder\n",
        "from sklearn.model_selection import train_test_split, cross_val_score\n",
        "from sklearn.model_selection import KFold\n",
        "import random\n",
        "from sklearn.metrics import roc_auc_score, accuracy_score\n",
        "from sklearn.preprocessing import KBinsDiscretizer as KBD\n",
        "from sklearn.ensemble import RandomForestClassifier as RFC\n",
        "%matplotlib inline\n",
        "import os\n",
        "#让jupyter中的图画上的中文都显示出来\n",
        "plt.rcParams['font.sans-serif']=['simhei']\n",
        "plt.rcParams['axes.unicode_minus'] = False\n",
        "os.environ[\"KMP DUPLICATE LIB OK\"]=\"TRUE\"\n",
        "data = pd.read_csv('abnormal_orders.txt')\n",
        "\n",
        "data.head(10)"
      ]
    },
    {
      "cell_type": "code",
      "execution_count": null,
      "id": "e850c4e8-a64c-4b42-aed1-bc03a489b135",
      "metadata": {
        "id": "e850c4e8-a64c-4b42-aed1-bc03a489b135",
        "outputId": "05286ed5-4769-4180-e7e2-395f58507e76"
      },
      "outputs": [
        {
          "data": {
            "text/plain": [
              "Index(['order_id', 'order_date', 'order_time', 'cat', 'attribution', 'pro_id',\n",
              "       'pro_brand', 'total_money', 'total_quantity', 'order_source',\n",
              "       'pay_type', 'use_id', 'city', 'abnormal_label'],\n",
              "      dtype='object')"
            ]
          },
          "execution_count": 2,
          "metadata": {},
          "output_type": "execute_result"
        }
      ],
      "source": [
        "data.columns"
      ]
    },
    {
      "cell_type": "code",
      "execution_count": null,
      "id": "a851bbff-4827-4af1-84a8-68915be8f69d",
      "metadata": {
        "id": "a851bbff-4827-4af1-84a8-68915be8f69d",
        "outputId": "db5d7d59-4677-41f1-ad9a-ee58a4e89c53"
      },
      "outputs": [
        {
          "data": {
            "text/html": [
              "<div>\n",
              "<style scoped>\n",
              "    .dataframe tbody tr th:only-of-type {\n",
              "        vertical-align: middle;\n",
              "    }\n",
              "\n",
              "    .dataframe tbody tr th {\n",
              "        vertical-align: top;\n",
              "    }\n",
              "\n",
              "    .dataframe thead th {\n",
              "        text-align: right;\n",
              "    }\n",
              "</style>\n",
              "<table border=\"1\" class=\"dataframe\">\n",
              "  <thead>\n",
              "    <tr style=\"text-align: right;\">\n",
              "      <th></th>\n",
              "      <th>订单ID</th>\n",
              "      <th>下单日期</th>\n",
              "      <th>下单时间</th>\n",
              "      <th>商品一级类别</th>\n",
              "      <th>商品所属渠道</th>\n",
              "      <th>商品ID</th>\n",
              "      <th>品牌</th>\n",
              "      <th>订单金额</th>\n",
              "      <th>销售数量</th>\n",
              "      <th>订单渠道</th>\n",
              "      <th>支付方式</th>\n",
              "      <th>用户名称</th>\n",
              "      <th>用户所在地</th>\n",
              "      <th>异常</th>\n",
              "    </tr>\n",
              "  </thead>\n",
              "  <tbody>\n",
              "    <tr>\n",
              "      <th>134180</th>\n",
              "      <td>4285740031</td>\n",
              "      <td>2013-02-15</td>\n",
              "      <td>23:43:06</td>\n",
              "      <td>生活电器厨卫电器</td>\n",
              "      <td>GO</td>\n",
              "      <td>1000009280</td>\n",
              "      <td>海尔</td>\n",
              "      <td>799.0</td>\n",
              "      <td>1</td>\n",
              "      <td>抢购</td>\n",
              "      <td>合并支付</td>\n",
              "      <td>yisansi0</td>\n",
              "      <td>海口市</td>\n",
              "      <td>0</td>\n",
              "    </tr>\n",
              "    <tr>\n",
              "      <th>134181</th>\n",
              "      <td>4285740168</td>\n",
              "      <td>2013-08-16</td>\n",
              "      <td>23:57:28</td>\n",
              "      <td>电脑办公打印文仪</td>\n",
              "      <td>GO</td>\n",
              "      <td>1000374490</td>\n",
              "      <td>黑石</td>\n",
              "      <td>288.0</td>\n",
              "      <td>1</td>\n",
              "      <td>主站</td>\n",
              "      <td>合并支付</td>\n",
              "      <td>alipay-208</td>\n",
              "      <td>佛山市</td>\n",
              "      <td>0</td>\n",
              "    </tr>\n",
              "    <tr>\n",
              "      <th>134182</th>\n",
              "      <td>4285740168</td>\n",
              "      <td>2013-04-01</td>\n",
              "      <td>23:57:28</td>\n",
              "      <td>食品酒水</td>\n",
              "      <td>POP</td>\n",
              "      <td>8002179541</td>\n",
              "      <td>蓝峰</td>\n",
              "      <td>19.8</td>\n",
              "      <td>1</td>\n",
              "      <td>主站</td>\n",
              "      <td>合并支付</td>\n",
              "      <td>alipay-208</td>\n",
              "      <td>佛山市</td>\n",
              "      <td>0</td>\n",
              "    </tr>\n",
              "    <tr>\n",
              "      <th>134183</th>\n",
              "      <td>4285745040</td>\n",
              "      <td>2013-05-18</td>\n",
              "      <td>23:49:55</td>\n",
              "      <td>家纺寝居</td>\n",
              "      <td>GO</td>\n",
              "      <td>1000379206</td>\n",
              "      <td>逸驰</td>\n",
              "      <td>19.9</td>\n",
              "      <td>1</td>\n",
              "      <td>主站</td>\n",
              "      <td>合并支付</td>\n",
              "      <td>qq-690593b</td>\n",
              "      <td>沈阳市</td>\n",
              "      <td>0</td>\n",
              "    </tr>\n",
              "    <tr>\n",
              "      <th>134184</th>\n",
              "      <td>4285745071</td>\n",
              "      <td>2013-05-13</td>\n",
              "      <td>23:50:01</td>\n",
              "      <td>生活电器厨卫电器</td>\n",
              "      <td>GO</td>\n",
              "      <td>1000380943</td>\n",
              "      <td>捷赛</td>\n",
              "      <td>398.0</td>\n",
              "      <td>1</td>\n",
              "      <td>主站</td>\n",
              "      <td>合并支付</td>\n",
              "      <td>qq-f1a32c7</td>\n",
              "      <td>廊坊市</td>\n",
              "      <td>0</td>\n",
              "    </tr>\n",
              "    <tr>\n",
              "      <th>134185</th>\n",
              "      <td>4285755067</td>\n",
              "      <td>2013-03-12</td>\n",
              "      <td>23:56:01</td>\n",
              "      <td>电视冰箱洗衣机空调</td>\n",
              "      <td>GO</td>\n",
              "      <td>1000296106</td>\n",
              "      <td>博世</td>\n",
              "      <td>2765.0</td>\n",
              "      <td>1</td>\n",
              "      <td>主站</td>\n",
              "      <td>货到付款</td>\n",
              "      <td>yanshuo3</td>\n",
              "      <td>北京市</td>\n",
              "      <td>0</td>\n",
              "    </tr>\n",
              "    <tr>\n",
              "      <th>134186</th>\n",
              "      <td>4285755076</td>\n",
              "      <td>2013-01-23</td>\n",
              "      <td>23:57:24</td>\n",
              "      <td>电视冰箱洗衣机空调</td>\n",
              "      <td>GO</td>\n",
              "      <td>1000296108</td>\n",
              "      <td>西门子</td>\n",
              "      <td>2672.0</td>\n",
              "      <td>1</td>\n",
              "      <td>主站</td>\n",
              "      <td>货到付款</td>\n",
              "      <td>yanshuo3</td>\n",
              "      <td>北京市</td>\n",
              "      <td>0</td>\n",
              "    </tr>\n",
              "    <tr>\n",
              "      <th>134187</th>\n",
              "      <td>4285765029</td>\n",
              "      <td>2013-03-24</td>\n",
              "      <td>23:54:34</td>\n",
              "      <td>家具建材</td>\n",
              "      <td>GO</td>\n",
              "      <td>1000348294</td>\n",
              "      <td>埃斯兰德</td>\n",
              "      <td>128.0</td>\n",
              "      <td>1</td>\n",
              "      <td>抢购</td>\n",
              "      <td>合并支付</td>\n",
              "      <td>1350304234</td>\n",
              "      <td>广州市</td>\n",
              "      <td>0</td>\n",
              "    </tr>\n",
              "    <tr>\n",
              "      <th>134188</th>\n",
              "      <td>4285770012</td>\n",
              "      <td>2013-09-19</td>\n",
              "      <td>23:55:06</td>\n",
              "      <td>家居日用</td>\n",
              "      <td>GO</td>\n",
              "      <td>1000335947</td>\n",
              "      <td>炊大师</td>\n",
              "      <td>79.0</td>\n",
              "      <td>1</td>\n",
              "      <td>抢购</td>\n",
              "      <td>合并支付</td>\n",
              "      <td>shukun</td>\n",
              "      <td>东莞市</td>\n",
              "      <td>0</td>\n",
              "    </tr>\n",
              "    <tr>\n",
              "      <th>134189</th>\n",
              "      <td>4285770056</td>\n",
              "      <td>2013-05-20</td>\n",
              "      <td>23:58:59</td>\n",
              "      <td>生活电器厨卫电器</td>\n",
              "      <td>GO</td>\n",
              "      <td>1000009280</td>\n",
              "      <td>海尔</td>\n",
              "      <td>799.0</td>\n",
              "      <td>1</td>\n",
              "      <td>抢购</td>\n",
              "      <td>合并支付</td>\n",
              "      <td>544975322_</td>\n",
              "      <td>海口市</td>\n",
              "      <td>0</td>\n",
              "    </tr>\n",
              "  </tbody>\n",
              "</table>\n",
              "</div>"
            ],
            "text/plain": [
              "              订单ID        下单日期      下单时间     商品一级类别 商品所属渠道        商品ID    品牌  \\\n",
              "134180  4285740031  2013-02-15  23:43:06   生活电器厨卫电器     GO  1000009280    海尔   \n",
              "134181  4285740168  2013-08-16  23:57:28   电脑办公打印文仪     GO  1000374490    黑石   \n",
              "134182  4285740168  2013-04-01  23:57:28       食品酒水    POP  8002179541    蓝峰   \n",
              "134183  4285745040  2013-05-18  23:49:55       家纺寝居     GO  1000379206    逸驰   \n",
              "134184  4285745071  2013-05-13  23:50:01   生活电器厨卫电器     GO  1000380943    捷赛   \n",
              "134185  4285755067  2013-03-12  23:56:01  电视冰箱洗衣机空调     GO  1000296106    博世   \n",
              "134186  4285755076  2013-01-23  23:57:24  电视冰箱洗衣机空调     GO  1000296108   西门子   \n",
              "134187  4285765029  2013-03-24  23:54:34       家具建材     GO  1000348294  埃斯兰德   \n",
              "134188  4285770012  2013-09-19  23:55:06       家居日用     GO  1000335947   炊大师   \n",
              "134189  4285770056  2013-05-20  23:58:59   生活电器厨卫电器     GO  1000009280    海尔   \n",
              "\n",
              "          订单金额  销售数量 订单渠道  支付方式        用户名称 用户所在地  异常  \n",
              "134180   799.0     1   抢购  合并支付    yisansi0   海口市   0  \n",
              "134181   288.0     1   主站  合并支付  alipay-208   佛山市   0  \n",
              "134182    19.8     1   主站  合并支付  alipay-208   佛山市   0  \n",
              "134183    19.9     1   主站  合并支付  qq-690593b   沈阳市   0  \n",
              "134184   398.0     1   主站  合并支付  qq-f1a32c7   廊坊市   0  \n",
              "134185  2765.0     1   主站  货到付款    yanshuo3   北京市   0  \n",
              "134186  2672.0     1   主站  货到付款    yanshuo3   北京市   0  \n",
              "134187   128.0     1   抢购  合并支付  1350304234   广州市   0  \n",
              "134188    79.0     1   抢购  合并支付      shukun   东莞市   0  \n",
              "134189   799.0     1   抢购  合并支付  544975322_   海口市   0  "
            ]
          },
          "execution_count": 3,
          "metadata": {},
          "output_type": "execute_result"
        }
      ],
      "source": [
        "data.columns = [\"订单ID\",\"下单日期\",\"下单时间\",\"商品一级类别\",\"商品所属渠道\",\"商品ID\",\"品牌\",\"订单金额\",\"销售数量\",\"订单渠道\",\"支付方式\",\"用户名称\",\"用户所在地\",\"异常\"]\n",
        "data.tail(10)"
      ]
    },
    {
      "cell_type": "code",
      "execution_count": null,
      "id": "2d04b748-5d96-406f-96c5-afae8b49b5db",
      "metadata": {
        "id": "2d04b748-5d96-406f-96c5-afae8b49b5db",
        "outputId": "a843ee7c-7a91-4209-f390-d28a722e6d43"
      },
      "outputs": [
        {
          "data": {
            "text/plain": [
              "28457"
            ]
          },
          "execution_count": 4,
          "metadata": {},
          "output_type": "execute_result"
        }
      ],
      "source": [
        "(data['异常'] == 1).sum()"
      ]
    },
    {
      "cell_type": "code",
      "execution_count": null,
      "id": "ddda98f0-f3da-42f5-8b76-c488f91494c3",
      "metadata": {
        "id": "ddda98f0-f3da-42f5-8b76-c488f91494c3",
        "outputId": "8764f497-b2e6-439d-89ed-e761d2786d6e"
      },
      "outputs": [
        {
          "name": "stdout",
          "output_type": "stream",
          "text": [
            "21.2 %\n"
          ]
        }
      ],
      "source": [
        "print('{:.1f}'.format((data['异常'] == 1).sum()/data.shape[0] * 100),'%')"
      ]
    },
    {
      "cell_type": "code",
      "execution_count": null,
      "id": "c4862d9f-74f4-4dc1-b3bc-141dc7b73e5c",
      "metadata": {
        "id": "c4862d9f-74f4-4dc1-b3bc-141dc7b73e5c",
        "outputId": "125e9c8d-578a-4247-94d8-3de387ec1756"
      },
      "outputs": [
        {
          "data": {
            "text/plain": [
              "19212"
            ]
          },
          "execution_count": 6,
          "metadata": {},
          "output_type": "execute_result"
        }
      ],
      "source": [
        "data['订单ID'].duplicated().sum()"
      ]
    },
    {
      "cell_type": "code",
      "execution_count": null,
      "id": "ee84c780-7689-4fdd-9771-f32133fc800d",
      "metadata": {
        "id": "ee84c780-7689-4fdd-9771-f32133fc800d",
        "outputId": "1262246a-8ca1-4690-9656-e694a8ad1e83"
      },
      "outputs": [
        {
          "data": {
            "text/plain": [
              "商品一级类别\n",
              "手机摄影数码       20612\n",
              "生活电器厨卫电器     19281\n",
              "家纺寝居         18679\n",
              "电脑办公打印文仪     11405\n",
              "家居日用         10642\n",
              "电视冰箱洗衣机空调     9067\n",
              "美妆个护          9043\n",
              "汽车用品          6490\n",
              "家具建材          4941\n",
              "食品酒水          4669\n",
              "健康医疗          4252\n",
              "服饰鞋帽          4067\n",
              "运动户外          3934\n",
              "母婴用品玩具        2664\n",
              "箱包奢品          1962\n",
              "钟表首饰           860\n",
              "图书音像           232\n",
              "Name: count, dtype: int64"
            ]
          },
          "execution_count": 7,
          "metadata": {},
          "output_type": "execute_result"
        }
      ],
      "source": [
        "data['商品一级类别'].value_counts()"
      ]
    },
    {
      "cell_type": "code",
      "execution_count": null,
      "id": "ffa53175-936f-49c1-81f8-b9be748722b9",
      "metadata": {
        "id": "ffa53175-936f-49c1-81f8-b9be748722b9",
        "outputId": "b8222f96-0c0d-4635-bd49-8937c4ca6847"
      },
      "outputs": [
        {
          "data": {
            "text/plain": [
              "订单渠道\n",
              "主站            96894\n",
              "抢购            16256\n",
              "手机站点           7098\n",
              "团购             6294\n",
              "手机抢购           3095\n",
              "do.site_id     2394\n",
              "手机团购           1074\n",
              "充值              703\n",
              "当当              377\n",
              "游戏站点              5\n",
              "Name: count, dtype: int64"
            ]
          },
          "execution_count": 8,
          "metadata": {},
          "output_type": "execute_result"
        }
      ],
      "source": [
        "data['订单渠道'].value_counts()"
      ]
    },
    {
      "cell_type": "code",
      "execution_count": null,
      "id": "62da07ed-95c7-4fe1-a846-db3ee4f88fe0",
      "metadata": {
        "id": "62da07ed-95c7-4fe1-a846-db3ee4f88fe0",
        "outputId": "999a7eb8-e3bd-4e09-e90b-26af06eac228"
      },
      "outputs": [
        {
          "data": {
            "text/plain": [
              "支付方式\n",
              "合并支付    104274\n",
              "货到付款     26785\n",
              "当当支付      2511\n",
              "在线支付       421\n",
              "账户余额       199\n",
              "Name: count, dtype: int64"
            ]
          },
          "execution_count": 9,
          "metadata": {},
          "output_type": "execute_result"
        }
      ],
      "source": [
        "data['支付方式'].value_counts()"
      ]
    },
    {
      "cell_type": "code",
      "execution_count": null,
      "id": "7cc219bd-9296-428a-abd0-a845f095e3d7",
      "metadata": {
        "id": "7cc219bd-9296-428a-abd0-a845f095e3d7",
        "outputId": "7be3c6f0-252f-4b50-9d56-441ec80fe55c"
      },
      "outputs": [
        {
          "data": {
            "text/plain": [
              "用户所在地\n",
              "北京市        14554\n",
              "上海市         6637\n",
              "广州市         6033\n",
              "深圳市         5468\n",
              "天津市         3393\n",
              "           ...  \n",
              "果洛州            1\n",
              "昌都地区           1\n",
              "四川省其他城市        1\n",
              "江西省其他城市        1\n",
              "神农架林区          1\n",
              "Name: count, Length: 365, dtype: int64"
            ]
          },
          "execution_count": 10,
          "metadata": {},
          "output_type": "execute_result"
        }
      ],
      "source": [
        "data['用户所在地'].value_counts()"
      ]
    },
    {
      "cell_type": "code",
      "execution_count": null,
      "id": "c80cbb4b-bcf7-4110-87ff-c38aeb88a687",
      "metadata": {
        "scrolled": true,
        "id": "c80cbb4b-bcf7-4110-87ff-c38aeb88a687",
        "outputId": "b8405c5c-8cca-4283-aae7-c5448b9cb492"
      },
      "outputs": [
        {
          "name": "stdout",
          "output_type": "stream",
          "text": [
            "<class 'pandas.core.frame.DataFrame'>\n",
            "RangeIndex: 134190 entries, 0 to 134189\n",
            "Data columns (total 14 columns):\n",
            " #   Column  Non-Null Count   Dtype  \n",
            "---  ------  --------------   -----  \n",
            " 0   订单ID    134190 non-null  int64  \n",
            " 1   下单日期    134190 non-null  object \n",
            " 2   下单时间    134190 non-null  object \n",
            " 3   商品一级类别  132800 non-null  object \n",
            " 4   商品所属渠道  134190 non-null  object \n",
            " 5   商品ID    134190 non-null  int64  \n",
            " 6   品牌      133418 non-null  object \n",
            " 7   订单金额    134189 non-null  float64\n",
            " 8   销售数量    134190 non-null  int64  \n",
            " 9   订单渠道    134190 non-null  object \n",
            " 10  支付方式    134190 non-null  object \n",
            " 11  用户名称    134190 non-null  object \n",
            " 12  用户所在地   134188 non-null  object \n",
            " 13  异常      134190 non-null  int64  \n",
            "dtypes: float64(1), int64(4), object(9)\n",
            "memory usage: 14.3+ MB\n"
          ]
        }
      ],
      "source": [
        "data.info()"
      ]
    },
    {
      "cell_type": "code",
      "execution_count": null,
      "id": "8735e3fe-a47c-4f05-ae75-a06dc2985a33",
      "metadata": {
        "id": "8735e3fe-a47c-4f05-ae75-a06dc2985a33",
        "outputId": "5c5d283e-dac2-4b28-8e72-e367da7f90bd"
      },
      "outputs": [
        {
          "data": {
            "text/html": [
              "<div>\n",
              "<style scoped>\n",
              "    .dataframe tbody tr th:only-of-type {\n",
              "        vertical-align: middle;\n",
              "    }\n",
              "\n",
              "    .dataframe tbody tr th {\n",
              "        vertical-align: top;\n",
              "    }\n",
              "\n",
              "    .dataframe thead th {\n",
              "        text-align: right;\n",
              "    }\n",
              "</style>\n",
              "<table border=\"1\" class=\"dataframe\">\n",
              "  <thead>\n",
              "    <tr style=\"text-align: right;\">\n",
              "      <th></th>\n",
              "      <th>订单ID</th>\n",
              "      <th>商品ID</th>\n",
              "      <th>销售数量</th>\n",
              "      <th>异常</th>\n",
              "    </tr>\n",
              "  </thead>\n",
              "  <tbody>\n",
              "    <tr>\n",
              "      <th>0</th>\n",
              "      <td>4277880103</td>\n",
              "      <td>8000001215</td>\n",
              "      <td>1000</td>\n",
              "      <td>0</td>\n",
              "    </tr>\n",
              "    <tr>\n",
              "      <th>1</th>\n",
              "      <td>4283851335</td>\n",
              "      <td>8002042497</td>\n",
              "      <td>200</td>\n",
              "      <td>1</td>\n",
              "    </tr>\n",
              "  </tbody>\n",
              "</table>\n",
              "</div>"
            ],
            "text/plain": [
              "         订单ID        商品ID  销售数量  异常\n",
              "0  4277880103  8000001215  1000   0\n",
              "1  4283851335  8002042497   200   1"
            ]
          },
          "execution_count": 12,
          "metadata": {},
          "output_type": "execute_result"
        }
      ],
      "source": [
        "data.select_dtypes(include='int').head(2)"
      ]
    },
    {
      "cell_type": "code",
      "execution_count": null,
      "id": "6ec29dd7-43ea-43ee-bfdf-c769b66e29bf",
      "metadata": {
        "id": "6ec29dd7-43ea-43ee-bfdf-c769b66e29bf",
        "outputId": "92364ee2-0043-4b36-83c1-001f0b7f0bb9"
      },
      "outputs": [
        {
          "data": {
            "text/plain": [
              "订单ID         0\n",
              "下单日期         0\n",
              "下单时间         0\n",
              "商品一级类别    1390\n",
              "商品所属渠道       0\n",
              "商品ID         0\n",
              "品牌         772\n",
              "订单金额         1\n",
              "销售数量         0\n",
              "订单渠道         0\n",
              "支付方式         0\n",
              "用户名称         0\n",
              "用户所在地        2\n",
              "异常           0\n",
              "dtype: int64"
            ]
          },
          "execution_count": 13,
          "metadata": {},
          "output_type": "execute_result"
        }
      ],
      "source": [
        "data.isnull().sum()"
      ]
    },
    {
      "cell_type": "code",
      "execution_count": null,
      "id": "ae6bd4cd-f285-48df-9d30-98c8d4dd4ae0",
      "metadata": {
        "id": "ae6bd4cd-f285-48df-9d30-98c8d4dd4ae0",
        "outputId": "af68ae8b-6c0c-4828-b9cb-64f1278706e3"
      },
      "outputs": [
        {
          "data": {
            "text/plain": [
              "订单ID      0.000000\n",
              "下单日期      0.000000\n",
              "下单时间      0.000000\n",
              "商品一级类别    1.035845\n",
              "商品所属渠道    0.000000\n",
              "商品ID      0.000000\n",
              "品牌        0.575304\n",
              "订单金额      0.000745\n",
              "销售数量      0.000000\n",
              "订单渠道      0.000000\n",
              "支付方式      0.000000\n",
              "用户名称      0.000000\n",
              "用户所在地     0.001490\n",
              "异常        0.000000\n",
              "dtype: float64"
            ]
          },
          "execution_count": 14,
          "metadata": {},
          "output_type": "execute_result"
        }
      ],
      "source": [
        "data.isnull().sum()/data.shape[0]/0.01"
      ]
    },
    {
      "cell_type": "code",
      "execution_count": null,
      "id": "59142bd5-8e1f-4be9-be31-88edcbf0e56a",
      "metadata": {
        "id": "59142bd5-8e1f-4be9-be31-88edcbf0e56a",
        "outputId": "21e9dcf8-90ea-4183-b764-884660a69f9c"
      },
      "outputs": [
        {
          "data": {
            "image/png": "[encoded data removed]",
            "text/plain": [
              "<Figure size 1000x600 with 1 Axes>"
            ]
          },
          "metadata": {},
          "output_type": "display_data"
        }
      ],
      "source": [
        "plt.figure(figsize=(5,3),dpi=200)\n",
        "plt.scatter(2.8,5,s=5000,c=\"#01a2d9\",alpha=0.7,label=\"带缺失的样本\")\n",
        "plt.scatter(4,5,s=10000,c=\"#dc2624\",alpha=0.7,label=\"交易异常样本\")\n",
        "plt.xlim(1,6)\n",
        "plt.ylim(2.5, 7)\n",
        "ax = plt.gca()\n",
        "ax.spines['top'].set_visible(True)\n",
        "ax.spines['right'].set_visible(True)\n",
        "ax.spines['bottom'].set_visible(True)\n",
        "ax.spines['left'].set_visible(True)\n",
        "plt.text(2,5,s=\"带缺失的样本\",fontsize=10)\n",
        "plt.text(4,5,s=\"交易异常样本\",fontsize=10)\n",
        "plt.vlines(3.25,3.5, 4.8, colors=\"k\", linestyles=\"dotted\")\n",
        "plt.text(2.15,3,s=\"有缺失值且异常的样本\",fontsize=10)\n",
        "plt.text(2.15,2.6,s=\"交集越大，说明缺失与异常的联系越紧密\",fontsize=10)\n",
        "plt.xticks([])\n",
        "plt.yticks([])\n",
        "plt.show()\n"
      ]
    },
    {
      "cell_type": "code",
      "execution_count": null,
      "id": "0f570350-4b7c-442b-ae84-792c1abb86f7",
      "metadata": {
        "id": "0f570350-4b7c-442b-ae84-792c1abb86f7",
        "outputId": "02c72d13-7b91-4225-8627-ed981dd8b98a"
      },
      "outputs": [
        {
          "data": {
            "text/plain": [
              "1390"
            ]
          },
          "execution_count": 16,
          "metadata": {},
          "output_type": "execute_result"
        }
      ],
      "source": [
        "data['商品一级类别'].isnull().sum()"
      ]
    },
    {
      "cell_type": "code",
      "execution_count": null,
      "id": "5cebde34-10da-44d6-8e7b-32eeb201befe",
      "metadata": {
        "id": "5cebde34-10da-44d6-8e7b-32eeb201befe",
        "outputId": "1b4e8a7a-f487-4334-838b-a23db4d7bb2f"
      },
      "outputs": [
        {
          "data": {
            "text/plain": [
              "163"
            ]
          },
          "execution_count": 17,
          "metadata": {},
          "output_type": "execute_result"
        }
      ],
      "source": [
        "data.loc[data['商品一级类别'].isnull(),\"异常\"].sum()"
      ]
    },
    {
      "cell_type": "code",
      "execution_count": null,
      "id": "34b7b6cf-72be-4826-843e-aff42d313265",
      "metadata": {
        "id": "34b7b6cf-72be-4826-843e-aff42d313265",
        "outputId": "d4852c41-3fcf-4441-8d53-ea9fd4415b6b"
      },
      "outputs": [
        {
          "name": "stdout",
          "output_type": "stream",
          "text": [
            "缺少(商品一级类别)的样本中异常样本的占比为：11.727%\n",
            "缺少(品牌)的样本中异常样本的占比为：20.984%\n"
          ]
        }
      ],
      "source": [
        "for i in ['商品一级类别','品牌']:\n",
        "    ratio1 = 100 * data.loc[data[i].isnull(),\"异常\"].sum()/data[i].isnull().sum()\n",
        "    print(\"缺少({})的样本中异常样本的占比为：{:.3f}%\".format(i,ratio1))"
      ]
    },
    {
      "cell_type": "code",
      "execution_count": null,
      "id": "2673903f-eefb-4438-8987-6e1008aea0cc",
      "metadata": {
        "id": "2673903f-eefb-4438-8987-6e1008aea0cc",
        "outputId": "52873450-d38b-49cb-808d-c0a680cad471"
      },
      "outputs": [
        {
          "name": "stdout",
          "output_type": "stream",
          "text": [
            "全部交易异常样本中，缺少(商品一级类别)的样本中异常样本的占比为：0.573%\n",
            "全部交易异常样本中，缺少(品牌)的样本中异常样本的占比为：0.569%\n"
          ]
        }
      ],
      "source": [
        "for i in ['商品一级类别','品牌']:\n",
        "    ratio2 = 100 * data.loc[data[i].isnull(),\"异常\"].sum()/(data[\"异常\"]==1).sum()\n",
        "    print(\"全部交易异常样本中，缺少({})的样本中异常样本的占比为：{:.3f}%\".format(i,ratio2))"
      ]
    },
    {
      "cell_type": "code",
      "execution_count": null,
      "id": "acc1c61d-deea-47f2-aec6-dcaaa283db36",
      "metadata": {
        "id": "acc1c61d-deea-47f2-aec6-dcaaa283db36"
      },
      "outputs": [],
      "source": [
        "data.dropna(how = \"any\",inplace=True)"
      ]
    },
    {
      "cell_type": "code",
      "execution_count": null,
      "id": "bb2be9bb-eef6-4c3d-bf69-c62cad8039f2",
      "metadata": {
        "id": "bb2be9bb-eef6-4c3d-bf69-c62cad8039f2",
        "outputId": "f4a30c13-a9c6-4f42-c611-b4438e01a03a"
      },
      "outputs": [
        {
          "name": "stdout",
          "output_type": "stream",
          "text": [
            "<class 'pandas.core.frame.DataFrame'>\n",
            "Index: 132761 entries, 1 to 134189\n",
            "Data columns (total 14 columns):\n",
            " #   Column  Non-Null Count   Dtype  \n",
            "---  ------  --------------   -----  \n",
            " 0   订单ID    132761 non-null  int64  \n",
            " 1   下单日期    132761 non-null  object \n",
            " 2   下单时间    132761 non-null  object \n",
            " 3   商品一级类别  132761 non-null  object \n",
            " 4   商品所属渠道  132761 non-null  object \n",
            " 5   商品ID    132761 non-null  int64  \n",
            " 6   品牌      132761 non-null  object \n",
            " 7   订单金额    132761 non-null  float64\n",
            " 8   销售数量    132761 non-null  int64  \n",
            " 9   订单渠道    132761 non-null  object \n",
            " 10  支付方式    132761 non-null  object \n",
            " 11  用户名称    132761 non-null  object \n",
            " 12  用户所在地   132761 non-null  object \n",
            " 13  异常      132761 non-null  int64  \n",
            "dtypes: float64(1), int64(4), object(9)\n",
            "memory usage: 15.2+ MB\n"
          ]
        }
      ],
      "source": [
        "data.info()"
      ]
    },
    {
      "cell_type": "code",
      "execution_count": null,
      "id": "7cc44bbe-ffc2-45f3-9a12-d49db8930f9b",
      "metadata": {
        "id": "7cc44bbe-ffc2-45f3-9a12-d49db8930f9b",
        "outputId": "91125ac1-d362-4d69-9e54-5ced95f1b479"
      },
      "outputs": [
        {
          "data": {
            "text/plain": [
              "28284"
            ]
          },
          "execution_count": 22,
          "metadata": {},
          "output_type": "execute_result"
        }
      ],
      "source": [
        "(data[\"异常\"]==1).sum()"
      ]
    },
    {
      "cell_type": "code",
      "execution_count": null,
      "id": "6a366f6c-e12f-493e-b93a-0d62f1f43422",
      "metadata": {
        "id": "6a366f6c-e12f-493e-b93a-0d62f1f43422",
        "outputId": "e8de3f11-f023-483c-f135-df80a806969f"
      },
      "outputs": [
        {
          "data": {
            "text/plain": [
              "8"
            ]
          },
          "execution_count": 23,
          "metadata": {},
          "output_type": "execute_result"
        }
      ],
      "source": [
        "data.duplicated().sum()"
      ]
    },
    {
      "cell_type": "code",
      "execution_count": null,
      "id": "03c2c188-af38-4ab9-804a-1c87d28087b8",
      "metadata": {
        "id": "03c2c188-af38-4ab9-804a-1c87d28087b8",
        "outputId": "bef1f9bc-3458-4dc6-ecb9-0271eaf30b30"
      },
      "outputs": [
        {
          "data": {
            "text/html": [
              "<div>\n",
              "<style scoped>\n",
              "    .dataframe tbody tr th:only-of-type {\n",
              "        vertical-align: middle;\n",
              "    }\n",
              "\n",
              "    .dataframe tbody tr th {\n",
              "        vertical-align: top;\n",
              "    }\n",
              "\n",
              "    .dataframe thead th {\n",
              "        text-align: right;\n",
              "    }\n",
              "</style>\n",
              "<table border=\"1\" class=\"dataframe\">\n",
              "  <thead>\n",
              "    <tr style=\"text-align: right;\">\n",
              "      <th></th>\n",
              "      <th>订单ID</th>\n",
              "      <th>下单日期</th>\n",
              "      <th>下单时间</th>\n",
              "      <th>商品一级类别</th>\n",
              "      <th>商品所属渠道</th>\n",
              "      <th>商品ID</th>\n",
              "      <th>品牌</th>\n",
              "      <th>订单金额</th>\n",
              "      <th>销售数量</th>\n",
              "      <th>订单渠道</th>\n",
              "      <th>支付方式</th>\n",
              "      <th>用户名称</th>\n",
              "      <th>用户所在地</th>\n",
              "      <th>异常</th>\n",
              "    </tr>\n",
              "  </thead>\n",
              "  <tbody>\n",
              "    <tr>\n",
              "      <th>0</th>\n",
              "      <td>4283851335</td>\n",
              "      <td>2013-09-23</td>\n",
              "      <td>14:09:49</td>\n",
              "      <td>手机摄影数码</td>\n",
              "      <td>POP</td>\n",
              "      <td>8002042497</td>\n",
              "      <td>三星</td>\n",
              "      <td>766000.0</td>\n",
              "      <td>200</td>\n",
              "      <td>主站</td>\n",
              "      <td>合并支付</td>\n",
              "      <td>dakehu_zy</td>\n",
              "      <td>上海市</td>\n",
              "      <td>1</td>\n",
              "    </tr>\n",
              "    <tr>\n",
              "      <th>1</th>\n",
              "      <td>4276537082</td>\n",
              "      <td>2013-09-11</td>\n",
              "      <td>14:16:47</td>\n",
              "      <td>电视冰箱洗衣机空调</td>\n",
              "      <td>POP</td>\n",
              "      <td>8001992420</td>\n",
              "      <td>樱花</td>\n",
              "      <td>19900.0</td>\n",
              "      <td>100</td>\n",
              "      <td>主站</td>\n",
              "      <td>合并支付</td>\n",
              "      <td>qq-3be293b</td>\n",
              "      <td>泉州市</td>\n",
              "      <td>1</td>\n",
              "    </tr>\n",
              "    <tr>\n",
              "      <th>2</th>\n",
              "      <td>4281111595</td>\n",
              "      <td>2013-04-10</td>\n",
              "      <td>10:44:46</td>\n",
              "      <td>家具建材</td>\n",
              "      <td>POP</td>\n",
              "      <td>8002199518</td>\n",
              "      <td>纬度空间</td>\n",
              "      <td>100.0</td>\n",
              "      <td>100</td>\n",
              "      <td>主站</td>\n",
              "      <td>合并支付</td>\n",
              "      <td>nonscorpio</td>\n",
              "      <td>广州市</td>\n",
              "      <td>1</td>\n",
              "    </tr>\n",
              "    <tr>\n",
              "      <th>3</th>\n",
              "      <td>3977175284</td>\n",
              "      <td>2013-03-13</td>\n",
              "      <td>23:26:19</td>\n",
              "      <td>手机摄影数码</td>\n",
              "      <td>POP</td>\n",
              "      <td>8002237611</td>\n",
              "      <td>伊斯贝</td>\n",
              "      <td>990.0</td>\n",
              "      <td>100</td>\n",
              "      <td>主站</td>\n",
              "      <td>合并支付</td>\n",
              "      <td>swt6263122</td>\n",
              "      <td>宁德市</td>\n",
              "      <td>0</td>\n",
              "    </tr>\n",
              "    <tr>\n",
              "      <th>4</th>\n",
              "      <td>4106833871</td>\n",
              "      <td>2013-04-21</td>\n",
              "      <td>16:47:34</td>\n",
              "      <td>家居日用</td>\n",
              "      <td>POP</td>\n",
              "      <td>8002212182</td>\n",
              "      <td>品道天元</td>\n",
              "      <td>8800.0</td>\n",
              "      <td>100</td>\n",
              "      <td>主站</td>\n",
              "      <td>合并支付</td>\n",
              "      <td>qq-edf69d7</td>\n",
              "      <td>深圳市</td>\n",
              "      <td>0</td>\n",
              "    </tr>\n",
              "    <tr>\n",
              "      <th>...</th>\n",
              "      <td>...</td>\n",
              "      <td>...</td>\n",
              "      <td>...</td>\n",
              "      <td>...</td>\n",
              "      <td>...</td>\n",
              "      <td>...</td>\n",
              "      <td>...</td>\n",
              "      <td>...</td>\n",
              "      <td>...</td>\n",
              "      <td>...</td>\n",
              "      <td>...</td>\n",
              "      <td>...</td>\n",
              "      <td>...</td>\n",
              "      <td>...</td>\n",
              "    </tr>\n",
              "    <tr>\n",
              "      <th>132748</th>\n",
              "      <td>4285755067</td>\n",
              "      <td>2013-03-12</td>\n",
              "      <td>23:56:01</td>\n",
              "      <td>电视冰箱洗衣机空调</td>\n",
              "      <td>GO</td>\n",
              "      <td>1000296106</td>\n",
              "      <td>博世</td>\n",
              "      <td>2765.0</td>\n",
              "      <td>1</td>\n",
              "      <td>主站</td>\n",
              "      <td>货到付款</td>\n",
              "      <td>yanshuo3</td>\n",
              "      <td>北京市</td>\n",
              "      <td>0</td>\n",
              "    </tr>\n",
              "    <tr>\n",
              "      <th>132749</th>\n",
              "      <td>4285755076</td>\n",
              "      <td>2013-01-23</td>\n",
              "      <td>23:57:24</td>\n",
              "      <td>电视冰箱洗衣机空调</td>\n",
              "      <td>GO</td>\n",
              "      <td>1000296108</td>\n",
              "      <td>西门子</td>\n",
              "      <td>2672.0</td>\n",
              "      <td>1</td>\n",
              "      <td>主站</td>\n",
              "      <td>货到付款</td>\n",
              "      <td>yanshuo3</td>\n",
              "      <td>北京市</td>\n",
              "      <td>0</td>\n",
              "    </tr>\n",
              "    <tr>\n",
              "      <th>132750</th>\n",
              "      <td>4285765029</td>\n",
              "      <td>2013-03-24</td>\n",
              "      <td>23:54:34</td>\n",
              "      <td>家具建材</td>\n",
              "      <td>GO</td>\n",
              "      <td>1000348294</td>\n",
              "      <td>埃斯兰德</td>\n",
              "      <td>128.0</td>\n",
              "      <td>1</td>\n",
              "      <td>抢购</td>\n",
              "      <td>合并支付</td>\n",
              "      <td>1350304234</td>\n",
              "      <td>广州市</td>\n",
              "      <td>0</td>\n",
              "    </tr>\n",
              "    <tr>\n",
              "      <th>132751</th>\n",
              "      <td>4285770012</td>\n",
              "      <td>2013-09-19</td>\n",
              "      <td>23:55:06</td>\n",
              "      <td>家居日用</td>\n",
              "      <td>GO</td>\n",
              "      <td>1000335947</td>\n",
              "      <td>炊大师</td>\n",
              "      <td>79.0</td>\n",
              "      <td>1</td>\n",
              "      <td>抢购</td>\n",
              "      <td>合并支付</td>\n",
              "      <td>shukun</td>\n",
              "      <td>东莞市</td>\n",
              "      <td>0</td>\n",
              "    </tr>\n",
              "    <tr>\n",
              "      <th>132752</th>\n",
              "      <td>4285770056</td>\n",
              "      <td>2013-05-20</td>\n",
              "      <td>23:58:59</td>\n",
              "      <td>生活电器厨卫电器</td>\n",
              "      <td>GO</td>\n",
              "      <td>1000009280</td>\n",
              "      <td>海尔</td>\n",
              "      <td>799.0</td>\n",
              "      <td>1</td>\n",
              "      <td>抢购</td>\n",
              "      <td>合并支付</td>\n",
              "      <td>544975322_</td>\n",
              "      <td>海口市</td>\n",
              "      <td>0</td>\n",
              "    </tr>\n",
              "  </tbody>\n",
              "</table>\n",
              "<p>132753 rows × 14 columns</p>\n",
              "</div>"
            ],
            "text/plain": [
              "              订单ID        下单日期      下单时间     商品一级类别 商品所属渠道        商品ID    品牌  \\\n",
              "0       4283851335  2013-09-23  14:09:49     手机摄影数码    POP  8002042497    三星   \n",
              "1       4276537082  2013-09-11  14:16:47  电视冰箱洗衣机空调    POP  8001992420    樱花   \n",
              "2       4281111595  2013-04-10  10:44:46       家具建材    POP  8002199518  纬度空间   \n",
              "3       3977175284  2013-03-13  23:26:19     手机摄影数码    POP  8002237611   伊斯贝   \n",
              "4       4106833871  2013-04-21  16:47:34       家居日用    POP  8002212182  品道天元   \n",
              "...            ...         ...       ...        ...    ...         ...   ...   \n",
              "132748  4285755067  2013-03-12  23:56:01  电视冰箱洗衣机空调     GO  1000296106    博世   \n",
              "132749  4285755076  2013-01-23  23:57:24  电视冰箱洗衣机空调     GO  1000296108   西门子   \n",
              "132750  4285765029  2013-03-24  23:54:34       家具建材     GO  1000348294  埃斯兰德   \n",
              "132751  4285770012  2013-09-19  23:55:06       家居日用     GO  1000335947   炊大师   \n",
              "132752  4285770056  2013-05-20  23:58:59   生活电器厨卫电器     GO  1000009280    海尔   \n",
              "\n",
              "            订单金额  销售数量 订单渠道  支付方式        用户名称 用户所在地  异常  \n",
              "0       766000.0   200   主站  合并支付   dakehu_zy   上海市   1  \n",
              "1        19900.0   100   主站  合并支付  qq-3be293b   泉州市   1  \n",
              "2          100.0   100   主站  合并支付  nonscorpio   广州市   1  \n",
              "3          990.0   100   主站  合并支付  swt6263122   宁德市   0  \n",
              "4         8800.0   100   主站  合并支付  qq-edf69d7   深圳市   0  \n",
              "...          ...   ...  ...   ...         ...   ...  ..  \n",
              "132748    2765.0     1   主站  货到付款    yanshuo3   北京市   0  \n",
              "132749    2672.0     1   主站  货到付款    yanshuo3   北京市   0  \n",
              "132750     128.0     1   抢购  合并支付  1350304234   广州市   0  \n",
              "132751      79.0     1   抢购  合并支付      shukun   东莞市   0  \n",
              "132752     799.0     1   抢购  合并支付  544975322_   海口市   0  \n",
              "\n",
              "[132753 rows x 14 columns]"
            ]
          },
          "execution_count": 24,
          "metadata": {},
          "output_type": "execute_result"
        }
      ],
      "source": [
        "data.drop_duplicates(inplace = True)\n",
        "data.reset_index(drop = True)"
      ]
    },
    {
      "cell_type": "code",
      "execution_count": null,
      "id": "9b3ffa4e-fd2b-498f-b0fc-520c2235d27c",
      "metadata": {
        "id": "9b3ffa4e-fd2b-498f-b0fc-520c2235d27c",
        "outputId": "e3133ea1-c0ba-47e2-cca4-e7185f6f1df0"
      },
      "outputs": [
        {
          "data": {
            "text/plain": [
              "订单ID\n",
              "4279118253    32\n",
              "4269390206    23\n",
              "4271884108    20\n",
              "4275856215    20\n",
              "4265415474    19\n",
              "              ..\n",
              "4146667708     1\n",
              "4146667654     1\n",
              "4146661886     1\n",
              "4146657953     1\n",
              "4285770056     1\n",
              "Name: count, Length: 114207, dtype: int64"
            ]
          },
          "execution_count": 25,
          "metadata": {},
          "output_type": "execute_result"
        }
      ],
      "source": [
        "data['订单ID'].value_counts()"
      ]
    },
    {
      "cell_type": "code",
      "execution_count": null,
      "id": "95213603-0114-4393-ad5a-4971f7e19dc9",
      "metadata": {
        "id": "95213603-0114-4393-ad5a-4971f7e19dc9",
        "outputId": "5debeb00-75f5-4629-b387-1480770b73e1"
      },
      "outputs": [
        {
          "data": {
            "text/html": [
              "<div>\n",
              "<style scoped>\n",
              "    .dataframe tbody tr th:only-of-type {\n",
              "        vertical-align: middle;\n",
              "    }\n",
              "\n",
              "    .dataframe tbody tr th {\n",
              "        vertical-align: top;\n",
              "    }\n",
              "\n",
              "    .dataframe thead th {\n",
              "        text-align: right;\n",
              "    }\n",
              "</style>\n",
              "<table border=\"1\" class=\"dataframe\">\n",
              "  <thead>\n",
              "    <tr style=\"text-align: right;\">\n",
              "      <th></th>\n",
              "      <th>订单ID</th>\n",
              "      <th>下单日期</th>\n",
              "      <th>下单时间</th>\n",
              "      <th>商品一级类别</th>\n",
              "      <th>商品所属渠道</th>\n",
              "      <th>商品ID</th>\n",
              "      <th>品牌</th>\n",
              "      <th>订单金额</th>\n",
              "      <th>销售数量</th>\n",
              "      <th>订单渠道</th>\n",
              "      <th>支付方式</th>\n",
              "      <th>用户名称</th>\n",
              "      <th>用户所在地</th>\n",
              "      <th>异常</th>\n",
              "    </tr>\n",
              "  </thead>\n",
              "  <tbody>\n",
              "    <tr>\n",
              "      <th>96404</th>\n",
              "      <td>4279118253</td>\n",
              "      <td>2013-07-23</td>\n",
              "      <td>23:22:21</td>\n",
              "      <td>家具建材</td>\n",
              "      <td>GO</td>\n",
              "      <td>1000147804</td>\n",
              "      <td>西门子</td>\n",
              "      <td>10.6</td>\n",
              "      <td>1</td>\n",
              "      <td>主站</td>\n",
              "      <td>合并支付</td>\n",
              "      <td>cxh0111</td>\n",
              "      <td>湛江市</td>\n",
              "      <td>0</td>\n",
              "    </tr>\n",
              "  </tbody>\n",
              "</table>\n",
              "</div>"
            ],
            "text/plain": [
              "             订单ID        下单日期      下单时间 商品一级类别 商品所属渠道        商品ID   品牌  订单金额  \\\n",
              "96404  4279118253  2013-07-23  23:22:21   家具建材     GO  1000147804  西门子  10.6   \n",
              "\n",
              "       销售数量 订单渠道  支付方式     用户名称 用户所在地  异常  \n",
              "96404     1   主站  合并支付  cxh0111   湛江市   0  "
            ]
          },
          "execution_count": 26,
          "metadata": {},
          "output_type": "execute_result"
        }
      ],
      "source": [
        "data[data[\"订单ID\"] == 4279118253].head(1)"
      ]
    },
    {
      "cell_type": "code",
      "execution_count": null,
      "id": "7c31c690-a70e-4b97-8173-59212f5be714",
      "metadata": {
        "id": "7c31c690-a70e-4b97-8173-59212f5be714",
        "outputId": "066c57f9-a2f2-434a-ef53-511a8e0332e3"
      },
      "outputs": [
        {
          "name": "stdout",
          "output_type": "stream",
          "text": [
            "4279118253 : 0\n",
            "4269390206 : 0\n",
            "4271884108 : 20\n",
            "4275856215 : 20\n",
            "4265415474 : 0\n",
            "4279551124 : 0\n",
            "4283874398 : 0\n",
            "4283873538 : 0\n",
            "4283874524 : 0\n",
            "4283339603 : 0\n",
            "4283874688 : 0\n",
            "4283874209 : 0\n",
            "4283873946 : 0\n",
            "4283339890 : 0\n",
            "4283339774 : 0\n",
            "4283336310 : 0\n",
            "4276167340 : 0\n",
            "4282842130 : 0\n",
            "4282842151 : 0\n",
            "4282842230 : 0\n",
            "4193043860 : 16\n",
            "4282512627 : 0\n",
            "4282842193 : 0\n",
            "4272509367 : 0\n",
            "4282513806 : 0\n",
            "4282513764 : 0\n",
            "4282561933 : 0\n",
            "4285070202 : 0\n",
            "4280659906 : 0\n",
            "4285070300 : 0\n"
          ]
        }
      ],
      "source": [
        "DupOrder = data[\"订单ID\"].value_counts().index\n",
        "\n",
        "for i in DupOrder[:30]:\n",
        "    AbOrder = (data.loc[data[\"订单ID\"] == i,\"异常\"] == 1).sum()\n",
        "    print(i,\":\",AbOrder)"
      ]
    },
    {
      "cell_type": "code",
      "execution_count": null,
      "id": "e7087d1c-336f-4057-8b1d-28272911db88",
      "metadata": {
        "id": "e7087d1c-336f-4057-8b1d-28272911db88",
        "outputId": "7115ce78-38b9-42fa-a9d3-6c841fb544b8"
      },
      "outputs": [
        {
          "data": {
            "text/plain": [
              "0"
            ]
          },
          "execution_count": 28,
          "metadata": {},
          "output_type": "execute_result"
        }
      ],
      "source": [
        "data.loc[data['订单ID'] == 4271884108,'商品ID'].duplicated().sum()"
      ]
    },
    {
      "cell_type": "code",
      "execution_count": null,
      "id": "fe3bc918-58b8-41d2-8c02-74195bbf10c6",
      "metadata": {
        "id": "fe3bc918-58b8-41d2-8c02-74195bbf10c6",
        "outputId": "fba7281f-4a34-47fe-d541-14600b7b9608"
      },
      "outputs": [
        {
          "data": {
            "text/plain": [
              "0"
            ]
          },
          "execution_count": 29,
          "metadata": {},
          "output_type": "execute_result"
        }
      ],
      "source": [
        "data.loc[data['订单ID'] == 4193043860,'商品ID'].duplicated().sum()"
      ]
    },
    {
      "cell_type": "code",
      "execution_count": null,
      "id": "d130e669-8a9d-4255-8229-db1c27174ede",
      "metadata": {
        "id": "d130e669-8a9d-4255-8229-db1c27174ede",
        "outputId": "ce68955e-43ca-4e6b-9012-b127bcac07fd"
      },
      "outputs": [
        {
          "data": {
            "text/plain": [
              "28284"
            ]
          },
          "execution_count": 30,
          "metadata": {},
          "output_type": "execute_result"
        }
      ],
      "source": [
        "(data['异常'] == 1).sum()"
      ]
    },
    {
      "cell_type": "code",
      "execution_count": null,
      "id": "292178f0-cb68-47cb-bac5-7b091bf83333",
      "metadata": {
        "id": "292178f0-cb68-47cb-bac5-7b091bf83333",
        "outputId": "434b3c6e-da0b-4b29-8165-840d4a1dc163"
      },
      "outputs": [
        {
          "data": {
            "text/html": [
              "<div>\n",
              "<style scoped>\n",
              "    .dataframe tbody tr th:only-of-type {\n",
              "        vertical-align: middle;\n",
              "    }\n",
              "\n",
              "    .dataframe tbody tr th {\n",
              "        vertical-align: top;\n",
              "    }\n",
              "\n",
              "    .dataframe thead th {\n",
              "        text-align: right;\n",
              "    }\n",
              "</style>\n",
              "<table border=\"1\" class=\"dataframe\">\n",
              "  <thead>\n",
              "    <tr style=\"text-align: right;\">\n",
              "      <th></th>\n",
              "      <th>订单ID</th>\n",
              "      <th>下单时间</th>\n",
              "      <th>商品一级类别</th>\n",
              "      <th>商品所属渠道</th>\n",
              "      <th>商品ID</th>\n",
              "      <th>品牌</th>\n",
              "      <th>订单金额</th>\n",
              "      <th>销售数量</th>\n",
              "      <th>订单渠道</th>\n",
              "      <th>支付方式</th>\n",
              "      <th>用户名称</th>\n",
              "      <th>用户所在地</th>\n",
              "      <th>异常</th>\n",
              "    </tr>\n",
              "  </thead>\n",
              "  <tbody>\n",
              "    <tr>\n",
              "      <th>2677</th>\n",
              "      <td>4243842528</td>\n",
              "      <td>23:10:21</td>\n",
              "      <td>食品酒水</td>\n",
              "      <td>POP</td>\n",
              "      <td>8001965291</td>\n",
              "      <td>红星</td>\n",
              "      <td>22.5</td>\n",
              "      <td>3</td>\n",
              "      <td>主站</td>\n",
              "      <td>账户余额</td>\n",
              "      <td>liwengen10</td>\n",
              "      <td>成都市</td>\n",
              "      <td>0</td>\n",
              "    </tr>\n",
              "    <tr>\n",
              "      <th>6031</th>\n",
              "      <td>4255866455</td>\n",
              "      <td>19:45:37</td>\n",
              "      <td>母婴用品玩具</td>\n",
              "      <td>GO</td>\n",
              "      <td>1000365111</td>\n",
              "      <td>日本花王</td>\n",
              "      <td>314.0</td>\n",
              "      <td>2</td>\n",
              "      <td>手机站点</td>\n",
              "      <td>账户余额</td>\n",
              "      <td>lyctc05</td>\n",
              "      <td>漳州市</td>\n",
              "      <td>0</td>\n",
              "    </tr>\n",
              "    <tr>\n",
              "      <th>6493</th>\n",
              "      <td>4272722309</td>\n",
              "      <td>16:19:49</td>\n",
              "      <td>家纺寝居</td>\n",
              "      <td>GO</td>\n",
              "      <td>1000381520</td>\n",
              "      <td>逸驰</td>\n",
              "      <td>218.0</td>\n",
              "      <td>2</td>\n",
              "      <td>主站</td>\n",
              "      <td>账户余额</td>\n",
              "      <td>bixiaxia43</td>\n",
              "      <td>焦作市</td>\n",
              "      <td>0</td>\n",
              "    </tr>\n",
              "    <tr>\n",
              "      <th>35937</th>\n",
              "      <td>3065026161</td>\n",
              "      <td>11:36:31</td>\n",
              "      <td>电视冰箱洗衣机空调</td>\n",
              "      <td>GO</td>\n",
              "      <td>1000369438</td>\n",
              "      <td>伊莱克斯</td>\n",
              "      <td>1699.0</td>\n",
              "      <td>1</td>\n",
              "      <td>主站</td>\n",
              "      <td>合并支付</td>\n",
              "      <td>r117512533</td>\n",
              "      <td>合肥市</td>\n",
              "      <td>0</td>\n",
              "    </tr>\n",
              "    <tr>\n",
              "      <th>36847</th>\n",
              "      <td>3536131868</td>\n",
              "      <td>00:26:26</td>\n",
              "      <td>汽车用品</td>\n",
              "      <td>GO</td>\n",
              "      <td>1000371763</td>\n",
              "      <td>倍耐力</td>\n",
              "      <td>560.0</td>\n",
              "      <td>1</td>\n",
              "      <td>主站</td>\n",
              "      <td>合并支付</td>\n",
              "      <td>plbbwan</td>\n",
              "      <td>酒泉市</td>\n",
              "      <td>0</td>\n",
              "    </tr>\n",
              "  </tbody>\n",
              "</table>\n",
              "</div>"
            ],
            "text/plain": [
              "             订单ID      下单时间     商品一级类别 商品所属渠道        商品ID    品牌    订单金额  销售数量  \\\n",
              "2677   4243842528  23:10:21       食品酒水    POP  8001965291    红星    22.5     3   \n",
              "6031   4255866455  19:45:37     母婴用品玩具     GO  1000365111  日本花王   314.0     2   \n",
              "6493   4272722309  16:19:49       家纺寝居     GO  1000381520    逸驰   218.0     2   \n",
              "35937  3065026161  11:36:31  电视冰箱洗衣机空调     GO  1000369438  伊莱克斯  1699.0     1   \n",
              "36847  3536131868  00:26:26       汽车用品     GO  1000371763   倍耐力   560.0     1   \n",
              "\n",
              "       订单渠道  支付方式        用户名称 用户所在地  异常  \n",
              "2677     主站  账户余额  liwengen10   成都市   0  \n",
              "6031   手机站点  账户余额     lyctc05   漳州市   0  \n",
              "6493     主站  账户余额  bixiaxia43   焦作市   0  \n",
              "35937    主站  合并支付  r117512533   合肥市   0  \n",
              "36847    主站  合并支付     plbbwan   酒泉市   0  "
            ]
          },
          "execution_count": 31,
          "metadata": {},
          "output_type": "execute_result"
        }
      ],
      "source": [
        "data2 = data.drop(columns = '下单日期')\n",
        "data2[data2.duplicated()].head()"
      ]
    },
    {
      "cell_type": "code",
      "execution_count": null,
      "id": "a738b269-4ffa-4e2b-be7f-437bc9091eeb",
      "metadata": {
        "id": "a738b269-4ffa-4e2b-be7f-437bc9091eeb",
        "outputId": "6b1869d6-fbfe-4dda-ff6c-f5d6691e6819"
      },
      "outputs": [
        {
          "data": {
            "text/plain": [
              "订单ID\n",
              "4269390206    23\n",
              "4271884108    20\n",
              "4275856215    20\n",
              "4265415474    19\n",
              "4283874688    18\n",
              "              ..\n",
              "4144311846     1\n",
              "4283495517     1\n",
              "4283496150     1\n",
              "4144240046     1\n",
              "4285770056     1\n",
              "Name: count, Length: 114207, dtype: int64"
            ]
          },
          "execution_count": 32,
          "metadata": {},
          "output_type": "execute_result"
        }
      ],
      "source": [
        "data.drop(data[data2.duplicated()].index,inplace = True)\n",
        "data[\"订单ID\"].value_counts()"
      ]
    },
    {
      "cell_type": "code",
      "execution_count": null,
      "id": "396f84e3-06ff-4fa1-8001-4fb133916d99",
      "metadata": {
        "id": "396f84e3-06ff-4fa1-8001-4fb133916d99",
        "outputId": "2046fa4b-ad83-4320-f177-4b1e6e9675e4"
      },
      "outputs": [
        {
          "data": {
            "text/html": [
              "<div>\n",
              "<style scoped>\n",
              "    .dataframe tbody tr th:only-of-type {\n",
              "        vertical-align: middle;\n",
              "    }\n",
              "\n",
              "    .dataframe tbody tr th {\n",
              "        vertical-align: top;\n",
              "    }\n",
              "\n",
              "    .dataframe thead th {\n",
              "        text-align: right;\n",
              "    }\n",
              "</style>\n",
              "<table border=\"1\" class=\"dataframe\">\n",
              "  <thead>\n",
              "    <tr style=\"text-align: right;\">\n",
              "      <th></th>\n",
              "      <th>订单ID</th>\n",
              "      <th>下单日期</th>\n",
              "      <th>下单时间</th>\n",
              "      <th>商品一级类别</th>\n",
              "      <th>商品所属渠道</th>\n",
              "      <th>商品ID</th>\n",
              "      <th>品牌</th>\n",
              "      <th>订单金额</th>\n",
              "      <th>销售数量</th>\n",
              "      <th>订单渠道</th>\n",
              "      <th>支付方式</th>\n",
              "      <th>用户名称</th>\n",
              "      <th>用户所在地</th>\n",
              "      <th>异常</th>\n",
              "    </tr>\n",
              "  </thead>\n",
              "  <tbody>\n",
              "    <tr>\n",
              "      <th>77477</th>\n",
              "      <td>4269390206</td>\n",
              "      <td>2013-09-26</td>\n",
              "      <td>02:11:10</td>\n",
              "      <td>电视冰箱洗衣机空调</td>\n",
              "      <td>GO</td>\n",
              "      <td>1000324051</td>\n",
              "      <td>夏普</td>\n",
              "      <td>2588.0</td>\n",
              "      <td>1</td>\n",
              "      <td>主站</td>\n",
              "      <td>合并支付</td>\n",
              "      <td>1390109546</td>\n",
              "      <td>西安市</td>\n",
              "      <td>0</td>\n",
              "    </tr>\n",
              "    <tr>\n",
              "      <th>77478</th>\n",
              "      <td>4269390206</td>\n",
              "      <td>2013-03-09</td>\n",
              "      <td>02:11:10</td>\n",
              "      <td>电视冰箱洗衣机空调</td>\n",
              "      <td>POP</td>\n",
              "      <td>8002267703</td>\n",
              "      <td>夏普</td>\n",
              "      <td>14999.0</td>\n",
              "      <td>1</td>\n",
              "      <td>主站</td>\n",
              "      <td>合并支付</td>\n",
              "      <td>1390109546</td>\n",
              "      <td>西安市</td>\n",
              "      <td>0</td>\n",
              "    </tr>\n",
              "    <tr>\n",
              "      <th>77479</th>\n",
              "      <td>4269390206</td>\n",
              "      <td>2013-09-21</td>\n",
              "      <td>02:11:10</td>\n",
              "      <td>电视冰箱洗衣机空调</td>\n",
              "      <td>GO</td>\n",
              "      <td>1000324052</td>\n",
              "      <td>夏普</td>\n",
              "      <td>3888.0</td>\n",
              "      <td>1</td>\n",
              "      <td>主站</td>\n",
              "      <td>合并支付</td>\n",
              "      <td>1390109546</td>\n",
              "      <td>西安市</td>\n",
              "      <td>0</td>\n",
              "    </tr>\n",
              "    <tr>\n",
              "      <th>77480</th>\n",
              "      <td>4269390206</td>\n",
              "      <td>2013-01-23</td>\n",
              "      <td>02:11:10</td>\n",
              "      <td>家居日用</td>\n",
              "      <td>GO</td>\n",
              "      <td>1000174960</td>\n",
              "      <td>伟经</td>\n",
              "      <td>275.0</td>\n",
              "      <td>1</td>\n",
              "      <td>主站</td>\n",
              "      <td>合并支付</td>\n",
              "      <td>1390109546</td>\n",
              "      <td>西安市</td>\n",
              "      <td>0</td>\n",
              "    </tr>\n",
              "    <tr>\n",
              "      <th>77481</th>\n",
              "      <td>4269390206</td>\n",
              "      <td>2013-11-12</td>\n",
              "      <td>02:11:10</td>\n",
              "      <td>电脑办公打印文仪</td>\n",
              "      <td>GO</td>\n",
              "      <td>1000315933</td>\n",
              "      <td>中亿</td>\n",
              "      <td>738.0</td>\n",
              "      <td>1</td>\n",
              "      <td>主站</td>\n",
              "      <td>合并支付</td>\n",
              "      <td>1390109546</td>\n",
              "      <td>西安市</td>\n",
              "      <td>0</td>\n",
              "    </tr>\n",
              "  </tbody>\n",
              "</table>\n",
              "</div>"
            ],
            "text/plain": [
              "             订单ID        下单日期      下单时间     商品一级类别 商品所属渠道        商品ID  品牌  \\\n",
              "77477  4269390206  2013-09-26  02:11:10  电视冰箱洗衣机空调     GO  1000324051  夏普   \n",
              "77478  4269390206  2013-03-09  02:11:10  电视冰箱洗衣机空调    POP  8002267703  夏普   \n",
              "77479  4269390206  2013-09-21  02:11:10  电视冰箱洗衣机空调     GO  1000324052  夏普   \n",
              "77480  4269390206  2013-01-23  02:11:10       家居日用     GO  1000174960  伟经   \n",
              "77481  4269390206  2013-11-12  02:11:10   电脑办公打印文仪     GO  1000315933  中亿   \n",
              "\n",
              "          订单金额  销售数量 订单渠道  支付方式        用户名称 用户所在地  异常  \n",
              "77477   2588.0     1   主站  合并支付  1390109546   西安市   0  \n",
              "77478  14999.0     1   主站  合并支付  1390109546   西安市   0  \n",
              "77479   3888.0     1   主站  合并支付  1390109546   西安市   0  \n",
              "77480    275.0     1   主站  合并支付  1390109546   西安市   0  \n",
              "77481    738.0     1   主站  合并支付  1390109546   西安市   0  "
            ]
          },
          "execution_count": 33,
          "metadata": {},
          "output_type": "execute_result"
        }
      ],
      "source": [
        "data[data[\"订单ID\"] == 4269390206].head()"
      ]
    },
    {
      "cell_type": "code",
      "execution_count": null,
      "id": "f3238753-a660-454e-b706-c6c6c37188dd",
      "metadata": {
        "id": "f3238753-a660-454e-b706-c6c6c37188dd",
        "outputId": "b27d2db4-8204-4bbf-e1ac-1e52849ac65c"
      },
      "outputs": [
        {
          "data": {
            "text/html": [
              "<div>\n",
              "<style scoped>\n",
              "    .dataframe tbody tr th:only-of-type {\n",
              "        vertical-align: middle;\n",
              "    }\n",
              "\n",
              "    .dataframe tbody tr th {\n",
              "        vertical-align: top;\n",
              "    }\n",
              "\n",
              "    .dataframe thead th {\n",
              "        text-align: right;\n",
              "    }\n",
              "</style>\n",
              "<table border=\"1\" class=\"dataframe\">\n",
              "  <thead>\n",
              "    <tr style=\"text-align: right;\">\n",
              "      <th></th>\n",
              "      <th>订单ID</th>\n",
              "      <th>下单日期</th>\n",
              "      <th>下单时间</th>\n",
              "      <th>商品一级类别</th>\n",
              "      <th>商品所属渠道</th>\n",
              "      <th>商品ID</th>\n",
              "      <th>品牌</th>\n",
              "      <th>订单金额</th>\n",
              "      <th>销售数量</th>\n",
              "      <th>订单渠道</th>\n",
              "      <th>支付方式</th>\n",
              "      <th>用户名称</th>\n",
              "      <th>用户所在地</th>\n",
              "      <th>异常</th>\n",
              "    </tr>\n",
              "  </thead>\n",
              "  <tbody>\n",
              "    <tr>\n",
              "      <th>0</th>\n",
              "      <td>4283851335</td>\n",
              "      <td>2013-09-23</td>\n",
              "      <td>14:09:49</td>\n",
              "      <td>手机摄影数码</td>\n",
              "      <td>POP</td>\n",
              "      <td>8002042497</td>\n",
              "      <td>三星</td>\n",
              "      <td>766000.0</td>\n",
              "      <td>200</td>\n",
              "      <td>主站</td>\n",
              "      <td>合并支付</td>\n",
              "      <td>dakehu_zy</td>\n",
              "      <td>上海市</td>\n",
              "      <td>1</td>\n",
              "    </tr>\n",
              "    <tr>\n",
              "      <th>1</th>\n",
              "      <td>4276537082</td>\n",
              "      <td>2013-09-11</td>\n",
              "      <td>14:16:47</td>\n",
              "      <td>电视冰箱洗衣机空调</td>\n",
              "      <td>POP</td>\n",
              "      <td>8001992420</td>\n",
              "      <td>樱花</td>\n",
              "      <td>19900.0</td>\n",
              "      <td>100</td>\n",
              "      <td>主站</td>\n",
              "      <td>合并支付</td>\n",
              "      <td>qq-3be293b</td>\n",
              "      <td>泉州市</td>\n",
              "      <td>1</td>\n",
              "    </tr>\n",
              "    <tr>\n",
              "      <th>2</th>\n",
              "      <td>4281111595</td>\n",
              "      <td>2013-04-10</td>\n",
              "      <td>10:44:46</td>\n",
              "      <td>家具建材</td>\n",
              "      <td>POP</td>\n",
              "      <td>8002199518</td>\n",
              "      <td>纬度空间</td>\n",
              "      <td>100.0</td>\n",
              "      <td>100</td>\n",
              "      <td>主站</td>\n",
              "      <td>合并支付</td>\n",
              "      <td>nonscorpio</td>\n",
              "      <td>广州市</td>\n",
              "      <td>1</td>\n",
              "    </tr>\n",
              "    <tr>\n",
              "      <th>3</th>\n",
              "      <td>3977175284</td>\n",
              "      <td>2013-03-13</td>\n",
              "      <td>23:26:19</td>\n",
              "      <td>手机摄影数码</td>\n",
              "      <td>POP</td>\n",
              "      <td>8002237611</td>\n",
              "      <td>伊斯贝</td>\n",
              "      <td>990.0</td>\n",
              "      <td>100</td>\n",
              "      <td>主站</td>\n",
              "      <td>合并支付</td>\n",
              "      <td>swt6263122</td>\n",
              "      <td>宁德市</td>\n",
              "      <td>0</td>\n",
              "    </tr>\n",
              "    <tr>\n",
              "      <th>4</th>\n",
              "      <td>4106833871</td>\n",
              "      <td>2013-04-21</td>\n",
              "      <td>16:47:34</td>\n",
              "      <td>家居日用</td>\n",
              "      <td>POP</td>\n",
              "      <td>8002212182</td>\n",
              "      <td>品道天元</td>\n",
              "      <td>8800.0</td>\n",
              "      <td>100</td>\n",
              "      <td>主站</td>\n",
              "      <td>合并支付</td>\n",
              "      <td>qq-edf69d7</td>\n",
              "      <td>深圳市</td>\n",
              "      <td>0</td>\n",
              "    </tr>\n",
              "  </tbody>\n",
              "</table>\n",
              "</div>"
            ],
            "text/plain": [
              "         订单ID        下单日期      下单时间     商品一级类别 商品所属渠道        商品ID    品牌  \\\n",
              "0  4283851335  2013-09-23  14:09:49     手机摄影数码    POP  8002042497    三星   \n",
              "1  4276537082  2013-09-11  14:16:47  电视冰箱洗衣机空调    POP  8001992420    樱花   \n",
              "2  4281111595  2013-04-10  10:44:46       家具建材    POP  8002199518  纬度空间   \n",
              "3  3977175284  2013-03-13  23:26:19     手机摄影数码    POP  8002237611   伊斯贝   \n",
              "4  4106833871  2013-04-21  16:47:34       家居日用    POP  8002212182  品道天元   \n",
              "\n",
              "       订单金额  销售数量 订单渠道  支付方式        用户名称 用户所在地  异常  \n",
              "0  766000.0   200   主站  合并支付   dakehu_zy   上海市   1  \n",
              "1   19900.0   100   主站  合并支付  qq-3be293b   泉州市   1  \n",
              "2     100.0   100   主站  合并支付  nonscorpio   广州市   1  \n",
              "3     990.0   100   主站  合并支付  swt6263122   宁德市   0  \n",
              "4    8800.0   100   主站  合并支付  qq-edf69d7   深圳市   0  "
            ]
          },
          "execution_count": 34,
          "metadata": {},
          "output_type": "execute_result"
        }
      ],
      "source": [
        "data.reset_index(drop = True).head()"
      ]
    },
    {
      "cell_type": "code",
      "execution_count": null,
      "id": "1645a868-95e0-45b0-877b-dfc504bd1b23",
      "metadata": {
        "id": "1645a868-95e0-45b0-877b-dfc504bd1b23",
        "outputId": "52c797c7-d384-4f96-dd1f-4afb36e16ee5"
      },
      "outputs": [
        {
          "data": {
            "text/plain": [
              "28284"
            ]
          },
          "execution_count": 35,
          "metadata": {},
          "output_type": "execute_result"
        }
      ],
      "source": [
        "(data[\"异常\"] == 1).sum()"
      ]
    },
    {
      "cell_type": "code",
      "execution_count": null,
      "id": "c507edbd-ded8-4522-8eb3-6b3be9b4e050",
      "metadata": {
        "id": "c507edbd-ded8-4522-8eb3-6b3be9b4e050",
        "outputId": "7bc75968-a99e-404c-a347-5b1153da6cae"
      },
      "outputs": [
        {
          "data": {
            "text/plain": [
              "订单ID\n",
              "4271884108    20\n",
              "4275856215    20\n",
              "4193043860    16\n",
              "4272902282    15\n",
              "4263198458    14\n",
              "              ..\n",
              "4275725286     1\n",
              "4275725271     1\n",
              "4275725244     1\n",
              "4275725191     1\n",
              "4285735014     1\n",
              "Name: count, Length: 25107, dtype: int64"
            ]
          },
          "execution_count": 36,
          "metadata": {},
          "output_type": "execute_result"
        }
      ],
      "source": [
        "data.loc[data[\"异常\"] == 1,\"订单ID\"].value_counts()"
      ]
    },
    {
      "cell_type": "code",
      "execution_count": null,
      "id": "9fa22c3e-5a58-45e3-a810-ad219f158391",
      "metadata": {
        "id": "9fa22c3e-5a58-45e3-a810-ad219f158391",
        "outputId": "1d7e8929-33c6-42ae-8ffa-afef9b37e593"
      },
      "outputs": [
        {
          "data": {
            "text/plain": [
              "订单ID\n",
              "4269390206    23\n",
              "4265415474    19\n",
              "4283339603    18\n",
              "4283874209    18\n",
              "4283339890    18\n",
              "              ..\n",
              "4203261483     1\n",
              "4203261361     1\n",
              "4203261263     1\n",
              "4203261137     1\n",
              "4285770056     1\n",
              "Name: count, Length: 89105, dtype: int64"
            ]
          },
          "execution_count": 37,
          "metadata": {},
          "output_type": "execute_result"
        }
      ],
      "source": [
        "data.loc[data[\"异常\"] != 1,\"订单ID\"].value_counts()"
      ]
    },
    {
      "cell_type": "code",
      "execution_count": null,
      "id": "c6b8565b-f7a9-49a9-a7fa-56a66c3b95cf",
      "metadata": {
        "id": "c6b8565b-f7a9-49a9-a7fa-56a66c3b95cf",
        "outputId": "be5ef05c-7e6a-4abf-b1dc-6d80a0d00df7"
      },
      "outputs": [
        {
          "data": {
            "text/plain": [
              "4121     1\n",
              "18204    1\n",
              "18205    1\n",
              "18206    1\n",
              "18207    1\n",
              "18208    1\n",
              "18209    1\n",
              "18210    1\n",
              "18211    1\n",
              "18212    1\n",
              "18213    1\n",
              "18214    1\n",
              "18215    1\n",
              "18216    1\n",
              "18217    1\n",
              "18218    1\n",
              "18219    1\n",
              "18220    1\n",
              "18221    1\n",
              "18222    1\n",
              "Name: 异常, dtype: int64"
            ]
          },
          "execution_count": 38,
          "metadata": {},
          "output_type": "execute_result"
        }
      ],
      "source": [
        "data.loc[data[\"订单ID\"] == 4275856215,\"异常\"]"
      ]
    },
    {
      "cell_type": "code",
      "execution_count": null,
      "id": "017d26a2-46fb-48de-a57e-33b7e8dbc318",
      "metadata": {
        "id": "017d26a2-46fb-48de-a57e-33b7e8dbc318",
        "outputId": "421c5392-3f14-47a1-fd6e-33220a91f544"
      },
      "outputs": [
        {
          "data": {
            "text/plain": [
              "下单日期\n",
              "10    11651\n",
              "06    11201\n",
              "09    11124\n",
              "03    11113\n",
              "07    11011\n",
              "01    10959\n",
              "04    10912\n",
              "05    10888\n",
              "12    10842\n",
              "08    10837\n",
              "11    10723\n",
              "02    10021\n",
              "Name: count, dtype: int64"
            ]
          },
          "execution_count": 39,
          "metadata": {},
          "output_type": "execute_result"
        }
      ],
      "source": [
        "OrderMonth = data[\"下单日期\"].apply(lambda x: x[5:7])\n",
        "OrderMonth.value_counts()"
      ]
    },
    {
      "cell_type": "code",
      "execution_count": null,
      "id": "0afb89bf-5cc6-4b69-9ca6-e00502514053",
      "metadata": {
        "id": "0afb89bf-5cc6-4b69-9ca6-e00502514053",
        "outputId": "f4854df3-8327-49e1-ebac-fd67febbffc2"
      },
      "outputs": [
        {
          "data": {
            "text/html": [
              "<div>\n",
              "<style scoped>\n",
              "    .dataframe tbody tr th:only-of-type {\n",
              "        vertical-align: middle;\n",
              "    }\n",
              "\n",
              "    .dataframe tbody tr th {\n",
              "        vertical-align: top;\n",
              "    }\n",
              "\n",
              "    .dataframe thead th {\n",
              "        text-align: right;\n",
              "    }\n",
              "</style>\n",
              "<table border=\"1\" class=\"dataframe\">\n",
              "  <thead>\n",
              "    <tr style=\"text-align: right;\">\n",
              "      <th></th>\n",
              "      <th>订单金额</th>\n",
              "      <th>销售数量</th>\n",
              "    </tr>\n",
              "  </thead>\n",
              "  <tbody>\n",
              "    <tr>\n",
              "      <th>count</th>\n",
              "      <td>131282.000000</td>\n",
              "      <td>131282.000000</td>\n",
              "    </tr>\n",
              "    <tr>\n",
              "      <th>mean</th>\n",
              "      <td>667.187834</td>\n",
              "      <td>1.188975</td>\n",
              "    </tr>\n",
              "    <tr>\n",
              "      <th>std</th>\n",
              "      <td>2930.730828</td>\n",
              "      <td>1.684653</td>\n",
              "    </tr>\n",
              "    <tr>\n",
              "      <th>min</th>\n",
              "      <td>0.500000</td>\n",
              "      <td>1.000000</td>\n",
              "    </tr>\n",
              "    <tr>\n",
              "      <th>25%</th>\n",
              "      <td>29.000000</td>\n",
              "      <td>1.000000</td>\n",
              "    </tr>\n",
              "    <tr>\n",
              "      <th>50%</th>\n",
              "      <td>98.000000</td>\n",
              "      <td>1.000000</td>\n",
              "    </tr>\n",
              "    <tr>\n",
              "      <th>75%</th>\n",
              "      <td>379.000000</td>\n",
              "      <td>1.000000</td>\n",
              "    </tr>\n",
              "    <tr>\n",
              "      <th>max</th>\n",
              "      <td>766000.000000</td>\n",
              "      <td>200.000000</td>\n",
              "    </tr>\n",
              "  </tbody>\n",
              "</table>\n",
              "</div>"
            ],
            "text/plain": [
              "                订单金额           销售数量\n",
              "count  131282.000000  131282.000000\n",
              "mean      667.187834       1.188975\n",
              "std      2930.730828       1.684653\n",
              "min         0.500000       1.000000\n",
              "25%        29.000000       1.000000\n",
              "50%        98.000000       1.000000\n",
              "75%       379.000000       1.000000\n",
              "max    766000.000000     200.000000"
            ]
          },
          "execution_count": 40,
          "metadata": {},
          "output_type": "execute_result"
        }
      ],
      "source": [
        "data.loc[:,[\"订单金额\",\"销售数量\"]].describe()"
      ]
    },
    {
      "cell_type": "code",
      "execution_count": null,
      "id": "df3fbec9-1990-48e7-ac6e-a883d842c51c",
      "metadata": {
        "id": "df3fbec9-1990-48e7-ac6e-a883d842c51c",
        "outputId": "ffe775a9-ca9a-43b7-c506-5f061d02dab3"
      },
      "outputs": [
        {
          "name": "stderr",
          "output_type": "stream",
          "text": [
            "/opt/conda/lib/python3.11/site-packages/IPython/core/pylabtools.py:152: UserWarning: Glyph 35746 (\\N{CJK UNIFIED IDEOGRAPH-8BA2}) missing from current font.\n",
            "  fig.canvas.print_figure(bytes_io, **kw)\n",
            "/opt/conda/lib/python3.11/site-packages/IPython/core/pylabtools.py:152: UserWarning: Glyph 21333 (\\N{CJK UNIFIED IDEOGRAPH-5355}) missing from current font.\n",
            "  fig.canvas.print_figure(bytes_io, **kw)\n",
            "/opt/conda/lib/python3.11/site-packages/IPython/core/pylabtools.py:152: UserWarning: Glyph 37329 (\\N{CJK UNIFIED IDEOGRAPH-91D1}) missing from current font.\n",
            "  fig.canvas.print_figure(bytes_io, **kw)\n",
            "/opt/conda/lib/python3.11/site-packages/IPython/core/pylabtools.py:152: UserWarning: Glyph 39069 (\\N{CJK UNIFIED IDEOGRAPH-989D}) missing from current font.\n",
            "  fig.canvas.print_figure(bytes_io, **kw)\n"
          ]
        },
        {
          "data": {
            "image/png": "[encoded data removed]",
            "text/plain": [
              "<Figure size 500x400 with 1 Axes>"
            ]
          },
          "metadata": {},
          "output_type": "display_data"
        }
      ],
      "source": [
        "import seaborn as sns\n",
        "\n",
        "plt.figure(figsize=(10,8),dpi = 50)\n",
        "sns.kdeplot(data.loc[:,\"订单金额\"],\n",
        "            fill=\"fill\",\n",
        "           color=\"#01a2d9\",\n",
        "           label=\"订单金额\",\n",
        "           alpha=.7)\n",
        "sns.set(style=\"whitegrid\",font_scale=1.1)\n",
        "plt.title(\"订单金额概率密度分布图\",fontsize=18,font=\"simhei\")\n",
        "plt.yticks([])\n",
        "plt.show()"
      ]
    },
    {
      "cell_type": "code",
      "execution_count": null,
      "id": "713e3158-3389-4caa-bab1-02c40b01671e",
      "metadata": {
        "id": "713e3158-3389-4caa-bab1-02c40b01671e"
      },
      "outputs": [],
      "source": []
    }
  ],
  "metadata": {
    "kernelspec": {
      "display_name": "Python 3 (ipykernel)",
      "language": "python",
      "name": "python3"
    },
    "language_info": {
      "codemirror_mode": {
        "name": "ipython",
        "version": 3
      },
      "file_extension": ".py",
      "mimetype": "text/x-python",
      "name": "python",
      "nbconvert_exporter": "python",
      "pygments_lexer": "ipython3",
      "version": "3.11.6"
    },
    "colab": {
      "provenance": [],
      "include_colab_link": true
    }
  },
  "nbformat": 4,
  "nbformat_minor": 5
}