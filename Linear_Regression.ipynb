{
  "nbformat": 4,
  "nbformat_minor": 0,
  "metadata": {
    "colab": {
      "provenance": [],
      "authorship_tag": "ABX9TyOypdnIcFo8YCOxVq0miTmH",
      "include_colab_link": true
    },
    "kernelspec": {
      "name": "python3",
      "display_name": "Python 3"
    },
    "language_info": {
      "name": "python"
    }
  },
  "cells": [
    {
      "cell_type": "markdown",
      "metadata": {
        "id": "view-in-github",
        "colab_type": "text"
      },
      "source": [
        "<a href=\"https://colab.research.google.com/github/ClaretWheel1481/Artificial-Intelligence/blob/main/Linear_Regression.ipynb\" target=\"_parent\"><img src=\"https://colab.research.google.com/assets/colab-badge.svg\" alt=\"Open In Colab\"/></a>"
      ]
    },
    {
      "cell_type": "markdown",
      "source": [
        "# **线性回归算法 Linear Regression**\n",
        "---\n",
        "确定两种或者两种以上变量间相互依赖的定量关系的一种统计分析方法\n",
        "<br>\n",
        "按照变量个数可分为 **一元回归** 和 **多元回归** 分析\n",
        "<br>\n",
        "一元线性回归方程：$ y=w_{0} + w_{1}x + ɛ   $\n",
        "<br>\n",
        "多元线性回归方程：$ \\hat{y}_{i} = w_{0} + w_{1}x_{i1}+w_{2}x_{i2}+ … +w_{n}x_{in}$"
      ],
      "metadata": {
        "id": "eWBIeh69rGQ-"
      }
    },
    {
      "cell_type": "code",
      "execution_count": 1,
      "metadata": {
        "id": "va412tA1pJjj"
      },
      "outputs": [],
      "source": [
        "import numpy as np\n",
        "import pandas as pd\n",
        "from sklearn.model_selection import train_test_split\n",
        "from sklearn.linear_model import LinearRegression\n",
        "from sklearn.metrics import mean_squared_error, r2_score"
      ]
    },
    {
      "cell_type": "code",
      "source": [
        "# 准备数据\n",
        "# 创建一个包含更多数据点和特征的随机数据集\n",
        "np.random.seed(0)\n",
        "num_samples = 1000\n",
        "\n",
        "# 预算\n",
        "budget = np.random.randint(5000000,100000000,size=num_samples)\n",
        "# 演员受欢迎程度\n",
        "actor_popularity = np.random.uniform(5.0,10.0,size=num_samples)\n",
        "# 广告\n",
        "advertising = np.random.randint(100000,1000000,size=num_samples)\n",
        "box_office = 2 * budget + 3 * actor_popularity + 0.5 * advertising + np.random.normal(0,1000000,size=num_samples)\n",
        "\n",
        "data = {\n",
        "    'Budget' : budget,\n",
        "    'Actor_Popularity' : actor_popularity,\n",
        "    'Advertising' : advertising,\n",
        "    'Box_Office' : box_office\n",
        "}\n",
        "\n",
        "# 转换为 Pandas DataFrame\n",
        "df = pd.DataFrame(data)"
      ],
      "metadata": {
        "id": "N1HQrVKbuL1d"
      },
      "execution_count": 2,
      "outputs": []
    }
  ]
}