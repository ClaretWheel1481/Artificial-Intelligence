{
  "cells": [
    {
      "cell_type": "code",
      "execution_count": null,
      "id": "241357c0-bb60-4820-bd92-878e3b77603e",
      "metadata": {
        "id": "241357c0-bb60-4820-bd92-878e3b77603e"
      },
      "outputs": [],
      "source": [
        "'''\n",
        "导入实验所需的库\n",
        "    1、深度学习框架torch\n",
        "    2、用于数据集加载的datasets\n",
        "    3、用于数据预处理的transforms\n",
        "    4、数据集下载器DataLoader\n",
        "    5、numpy和matplotlib\n",
        "'''\n",
        "import torch\n",
        "import torchvision.datasets as datasets\n",
        "import torchvision.transforms as transforms\n",
        "from torch.utils.data import DataLoader\n",
        "import numpy as np\n",
        "import matplotlib.pyplot as plt"
      ]
    },
    {
      "cell_type": "code",
      "execution_count": null,
      "id": "4f92e71b-0351-4949-8559-f43812ec4add",
      "metadata": {
        "id": "4f92e71b-0351-4949-8559-f43812ec4add"
      },
      "outputs": [],
      "source": [
        "'''\n",
        "数据预处理\n",
        "    1、将图片转换成PyTorch中处理的对象Tensor,并且进行标准化\n",
        "    2、做归一化：RBG三通道的均值为：(0.4914, 0.4822,0.4465), RGB三通道的标准差为(0.2023, 0.1994, 0.2010)\n",
        "'''\n",
        "data_tf = transforms.Compose([\n",
        "    transforms.ToTensor(),\n",
        "    transforms.Normalize((0.4914, 0.4822,0.4465), (0.2023, 0.1994, 0.2010))\n",
        "])"
      ]
    },
    {
      "cell_type": "code",
      "execution_count": null,
      "id": "06ad8e10-9dfe-4b8b-b3ca-81514c87f5fd",
      "metadata": {
        "id": "06ad8e10-9dfe-4b8b-b3ca-81514c87f5fd"
      },
      "outputs": [],
      "source": [
        "'''\n",
        "读取数据并构成数据集\n",
        "    1、读取cifar10数据集，形成训练集和测试集\n",
        "    2、将读取到的训练集和测试集构成批次，批次大小为64，且打乱数据顺序\n",
        "'''\n",
        "train_dataset = datasets.CIFAR10(root='./data', train=True, transform=data_tf)\n",
        "test_dataset = datasets.CIFAR10(root='./data', train=False, transform=data_tf)\n",
        "\n",
        "train_loader = DataLoader(dataset=train_dataset, batch_size=64, shuffle=True)\n",
        "test_loader = DataLoader(dataset=test_dataset, batch_size=64, shuffle=False)"
      ]
    },
    {
      "cell_type": "code",
      "execution_count": null,
      "id": "64261d39-3e61-497f-bb15-b6e35a305622",
      "metadata": {
        "colab": {
          "base_uri": "https://localhost:8080/",
          "height": 466
        },
        "id": "64261d39-3e61-497f-bb15-b6e35a305622",
        "outputId": "23bafd8b-72e9-4d8b-e351-059fdec5244c"
      },
      "outputs": [
        {
          "output_type": "stream",
          "name": "stdout",
          "text": [
            "deer\n"
          ]
        },
        {
          "output_type": "execute_result",
          "data": {
            "text/plain": [
              "<matplotlib.image.AxesImage at 0x7c477a8995a0>"
            ]
          },
          "metadata": {},
          "execution_count": 4
        },
        {
          "output_type": "display_data",
          "data": {
            "text/plain": [
              "<Figure size 640x480 with 1 Axes>"
            ],
            "image/png": "[encoded data removed]"
          },
          "metadata": {}
        }
      ],
      "source": [
        "'''\n",
        "可视化数据\n",
        "    1、选取训练集中索引为10的图片\n",
        "    2、输出索引为10的图片的标签(英文名称)\n",
        "    3、将RGB三个通道合成一张图片\n",
        "    4、利用matplotlib可视化合成的图片\n",
        "'''\n",
        "class_names = ['airplane', 'automobile', 'bird', 'cat', 'deer', 'dog', 'fog', 'horse', 'ship', 'truck']\n",
        "\n",
        "data, label = train_dataset[10]\n",
        "print(class_names[label])\n",
        "\n",
        "B = data.numpy()[0,:,:] * 0.2023 + 0.4914\n",
        "G = data.numpy()[1,:,:] * 0.1994 + 0.4822\n",
        "R = data.numpy()[2,:,:] * 0.2010 + 0.4465\n",
        "\n",
        "RGB = np.stack((R, G, B), axis=-1)\n",
        "plt.imshow(RGB)"
      ]
    },
    {
      "cell_type": "code",
      "execution_count": null,
      "id": "390e5d00-ffb4-4ed3-8182-eef051a98c49",
      "metadata": {
        "id": "390e5d00-ffb4-4ed3-8182-eef051a98c49"
      },
      "outputs": [],
      "source": [
        "'''\n",
        "构建模型\n",
        "    1、BaseNet继承toch中所有神经网络的父类\n",
        "    2、构建三层网络结构，激活函数为relu\n",
        "    3、实现网络的前向传播\n",
        "'''\n",
        "class BaseNet(torch.nn.Module):\n",
        "    def __init__(self, in_dim, n_hidden_1, n_hidden_2, out_dim):\n",
        "        '''\n",
        "        in_dim：输入神经元个数\n",
        "        n_hidden_1：第一层隐藏层神经元个数\n",
        "        n_hidden_2：第二层隐藏层神经元个数\n",
        "        out_dim：输出层神经元个数\n",
        "        '''\n",
        "        super(BaseNet, self).__init__()\n",
        "        self.layer1 = torch.nn.Sequential(\n",
        "            torch.nn.Linear(in_dim, n_hidden_1),\n",
        "            torch.nn.ReLU()\n",
        "        )\n",
        "        self.layer2 = torch.nn.Sequential(\n",
        "            torch.nn.Linear(n_hidden_1, n_hidden_2),\n",
        "            torch.nn.ReLU()\n",
        "        )\n",
        "        self.layer3 = torch.nn.Sequential(\n",
        "            torch.nn.Linear(n_hidden_2, out_dim)\n",
        "        )\n",
        "\n",
        "    def forward(self, x):\n",
        "        x = self.layer1(x)\n",
        "        x = self.layer2(x)\n",
        "        x = self.layer3(x)\n",
        "        return x"
      ]
    },
    {
      "cell_type": "code",
      "execution_count": null,
      "id": "95716f1d-9f48-40c7-9c82-ef6f1b56115f",
      "metadata": {
        "id": "95716f1d-9f48-40c7-9c82-ef6f1b56115f"
      },
      "outputs": [],
      "source": [
        "'''\n",
        "创建网络模型\n",
        "    1、第一层隐藏层神经元个数为500\n",
        "    2、第二层隐藏层神经元个数为200\n",
        "'''\n",
        "model = BaseNet(3072, 500, 200, 10)"
      ]
    },
    {
      "cell_type": "code",
      "execution_count": null,
      "id": "dfc188b8-2312-4087-9f07-73ae8e83f23f",
      "metadata": {
        "id": "dfc188b8-2312-4087-9f07-73ae8e83f23f"
      },
      "outputs": [],
      "source": [
        "'''\n",
        "模型配置\n",
        "    1、定义损失函数为交叉熵损失函数\n",
        "    2、定义优化器为SGD，学习率为0.02\n",
        "'''\n",
        "criterion = torch.nn.CrossEntropyLoss()\n",
        "optimizer = torch.optim.SGD(model.parameters(), lr=0.02)"
      ]
    },
    {
      "cell_type": "code",
      "execution_count": null,
      "id": "bf6d3630-ebe1-4ed1-9631-2058cd68f37a",
      "metadata": {
        "colab": {
          "base_uri": "https://localhost:8080/"
        },
        "id": "bf6d3630-ebe1-4ed1-9631-2058cd68f37a",
        "outputId": "aa7802f0-fc4f-4f35-cfe8-03cf4bb32d41"
      },
      "outputs": [
        {
          "output_type": "stream",
          "name": "stdout",
          "text": [
            "Epoch:0, Loss:1.7341\n",
            "Epoch:1, Loss:1.4881\n",
            "Epoch:2, Loss:1.3775\n",
            "Epoch:3, Loss:1.2968\n",
            "Epoch:4, Loss:1.2242\n",
            "Epoch:5, Loss:1.1647\n",
            "Epoch:6, Loss:1.1068\n",
            "Epoch:7, Loss:1.0480\n",
            "Epoch:8, Loss:0.9948\n",
            "Epoch:9, Loss:0.9442\n",
            "Epoch:10, Loss:0.8916\n",
            "Epoch:11, Loss:0.8431\n",
            "Epoch:12, Loss:0.7977\n",
            "Epoch:13, Loss:0.7510\n",
            "Epoch:14, Loss:0.7051\n",
            "Epoch:15, Loss:0.6644\n",
            "Epoch:16, Loss:0.6192\n",
            "Epoch:17, Loss:0.5796\n",
            "Epoch:18, Loss:0.5405\n",
            "Epoch:19, Loss:0.4940\n"
          ]
        }
      ],
      "source": [
        "'''\n",
        "训练模型\n",
        "    1、定义训练迭代轮数epochs为20\n",
        "    2、定义统计损失值的列表\n",
        "    3、遍历数据集，得到每个batch的数据\n",
        "    4、得到每个batch的特征值和目标值\n",
        "    5、将输入图像数据展平\n",
        "    6、得到预测结果\n",
        "    7、计算损失值\n",
        "    8、梯度清零\n",
        "    9、反向传播\n",
        "    10、更新参数\n",
        "'''\n",
        "epochs = 20\n",
        "\n",
        "for epoch in range(epochs):\n",
        "\n",
        "    loss_list = []\n",
        "\n",
        "    for data in train_loader:\n",
        "\n",
        "        img, label = data\n",
        "\n",
        "        # 判断使用可以用GPU训练\n",
        "        if torch.cuda.is_available():\n",
        "            img = img.cuda()\n",
        "            label = label.cuda()\n",
        "            model.cuda()\n",
        "\n",
        "        img = img.view(img.size(0), -1)\n",
        "\n",
        "        out = model(img)\n",
        "\n",
        "        loss = criterion(out,label)\n",
        "\n",
        "        loss_list.append(loss.item())\n",
        "\n",
        "        # 梯度清零\n",
        "        optimizer.zero_grad()\n",
        "\n",
        "        # 误差反向传播\n",
        "        loss.backward()\n",
        "\n",
        "        # 计算梯度更新参数\n",
        "        optimizer.step()\n",
        "\n",
        "    print(f'Epoch:{epoch}, Loss:{np.mean(loss_list):.4f}')"
      ]
    },
    {
      "cell_type": "code",
      "execution_count": null,
      "id": "c6f019b2-3d36-4c44-beec-47d08f68eb91",
      "metadata": {
        "colab": {
          "base_uri": "https://localhost:8080/"
        },
        "id": "c6f019b2-3d36-4c44-beec-47d08f68eb91",
        "outputId": "91ceac77-c7a4-4387-86e6-d8a764176e01"
      },
      "outputs": [
        {
          "output_type": "stream",
          "name": "stdout",
          "text": [
            "损失值: 0.000189, 准确率: 0.00\n",
            "损失值: 0.000355, 准确率: 0.01\n",
            "损失值: 0.000573, 准确率: 0.01\n",
            "损失值: 0.000789, 准确率: 0.01\n",
            "损失值: 0.000994, 准确率: 0.02\n",
            "损失值: 0.001197, 准确率: 0.02\n",
            "损失值: 0.001427, 准确率: 0.02\n",
            "损失值: 0.001592, 准确率: 0.03\n",
            "损失值: 0.001772, 准确率: 0.03\n",
            "损失值: 0.001931, 准确率: 0.03\n",
            "损失值: 0.002156, 准确率: 0.04\n",
            "损失值: 0.002370, 准确率: 0.04\n",
            "损失值: 0.002585, 准确率: 0.04\n",
            "损失值: 0.002766, 准确率: 0.05\n",
            "损失值: 0.002932, 准确率: 0.05\n",
            "损失值: 0.003076, 准确率: 0.05\n",
            "损失值: 0.003280, 准确率: 0.06\n",
            "损失值: 0.003470, 准确率: 0.06\n",
            "损失值: 0.003636, 准确率: 0.06\n",
            "损失值: 0.003884, 准确率: 0.07\n",
            "损失值: 0.004104, 准确率: 0.07\n",
            "损失值: 0.004310, 准确率: 0.07\n",
            "损失值: 0.004422, 准确率: 0.08\n",
            "损失值: 0.004676, 准确率: 0.08\n",
            "损失值: 0.004871, 准确率: 0.08\n",
            "损失值: 0.005094, 准确率: 0.09\n",
            "损失值: 0.005310, 准确率: 0.09\n",
            "损失值: 0.005521, 准确率: 0.09\n",
            "损失值: 0.005696, 准确率: 0.10\n",
            "损失值: 0.005922, 准确率: 0.10\n",
            "损失值: 0.006146, 准确率: 0.10\n",
            "损失值: 0.006325, 准确率: 0.10\n",
            "损失值: 0.006493, 准确率: 0.11\n",
            "损失值: 0.006701, 准确率: 0.11\n",
            "损失值: 0.006907, 准确率: 0.12\n",
            "损失值: 0.007111, 准确率: 0.12\n",
            "损失值: 0.007362, 准确率: 0.12\n",
            "损失值: 0.007597, 准确率: 0.12\n",
            "损失值: 0.007816, 准确率: 0.13\n",
            "损失值: 0.008092, 准确率: 0.13\n",
            "损失值: 0.008265, 准确率: 0.13\n",
            "损失值: 0.008467, 准确率: 0.14\n",
            "损失值: 0.008667, 准确率: 0.14\n",
            "损失值: 0.008902, 准确率: 0.14\n",
            "损失值: 0.009056, 准确率: 0.15\n",
            "损失值: 0.009272, 准确率: 0.15\n",
            "损失值: 0.009509, 准确率: 0.15\n",
            "损失值: 0.009741, 准确率: 0.16\n",
            "损失值: 0.009911, 准确率: 0.16\n",
            "损失值: 0.010127, 准确率: 0.16\n",
            "损失值: 0.010320, 准确率: 0.17\n",
            "损失值: 0.010504, 准确率: 0.17\n",
            "损失值: 0.010698, 准确率: 0.17\n",
            "损失值: 0.010964, 准确率: 0.18\n",
            "损失值: 0.011140, 准确率: 0.18\n",
            "损失值: 0.011319, 准确率: 0.18\n",
            "损失值: 0.011506, 准确率: 0.19\n",
            "损失值: 0.011665, 准确率: 0.19\n",
            "损失值: 0.011879, 准确率: 0.19\n",
            "损失值: 0.012020, 准确率: 0.20\n",
            "损失值: 0.012179, 准确率: 0.20\n",
            "损失值: 0.012377, 准确率: 0.20\n",
            "损失值: 0.012536, 准确率: 0.21\n",
            "损失值: 0.012745, 准确率: 0.21\n",
            "损失值: 0.012974, 准确率: 0.22\n",
            "损失值: 0.013141, 准确率: 0.22\n",
            "损失值: 0.013307, 准确率: 0.22\n",
            "损失值: 0.013461, 准确率: 0.23\n",
            "损失值: 0.013603, 准确率: 0.23\n",
            "损失值: 0.013743, 准确率: 0.23\n",
            "损失值: 0.013901, 准确率: 0.24\n",
            "损失值: 0.014115, 准确率: 0.24\n",
            "损失值: 0.014268, 准确率: 0.25\n",
            "损失值: 0.014432, 准确率: 0.25\n",
            "损失值: 0.014660, 准确率: 0.25\n",
            "损失值: 0.014819, 准确率: 0.26\n",
            "损失值: 0.015051, 准确率: 0.26\n",
            "损失值: 0.015295, 准确率: 0.26\n",
            "损失值: 0.015484, 准确率: 0.27\n",
            "损失值: 0.015726, 准确率: 0.27\n",
            "损失值: 0.015929, 准确率: 0.27\n",
            "损失值: 0.016096, 准确率: 0.27\n",
            "损失值: 0.016288, 准确率: 0.28\n",
            "损失值: 0.016528, 准确率: 0.28\n",
            "损失值: 0.016694, 准确率: 0.28\n",
            "损失值: 0.016898, 准确率: 0.29\n",
            "损失值: 0.017146, 准确率: 0.29\n",
            "损失值: 0.017374, 准确率: 0.29\n",
            "损失值: 0.017566, 准确率: 0.29\n",
            "损失值: 0.017731, 准确率: 0.30\n",
            "损失值: 0.017872, 准确率: 0.30\n",
            "损失值: 0.018106, 准确率: 0.30\n",
            "损失值: 0.018270, 准确率: 0.31\n",
            "损失值: 0.018473, 准确率: 0.31\n",
            "损失值: 0.018654, 准确率: 0.31\n",
            "损失值: 0.018849, 准确率: 0.32\n",
            "损失值: 0.019056, 准确率: 0.32\n",
            "损失值: 0.019240, 准确率: 0.32\n",
            "损失值: 0.019478, 准确率: 0.33\n",
            "损失值: 0.019648, 准确率: 0.33\n",
            "损失值: 0.019815, 准确率: 0.33\n",
            "损失值: 0.020013, 准确率: 0.34\n",
            "损失值: 0.020199, 准确率: 0.34\n",
            "损失值: 0.020386, 准确率: 0.34\n",
            "损失值: 0.020569, 准确率: 0.35\n",
            "损失值: 0.020765, 准确率: 0.35\n",
            "损失值: 0.020937, 准确率: 0.35\n",
            "损失值: 0.021170, 准确率: 0.36\n",
            "损失值: 0.021417, 准确率: 0.36\n",
            "损失值: 0.021631, 准确率: 0.36\n",
            "损失值: 0.021806, 准确率: 0.36\n",
            "损失值: 0.021974, 准确率: 0.37\n",
            "损失值: 0.022206, 准确率: 0.37\n",
            "损失值: 0.022377, 准确率: 0.37\n",
            "损失值: 0.022514, 准确率: 0.38\n",
            "损失值: 0.022704, 准确率: 0.38\n",
            "损失值: 0.022839, 准确率: 0.38\n",
            "损失值: 0.023048, 准确率: 0.39\n",
            "损失值: 0.023241, 准确率: 0.39\n",
            "损失值: 0.023424, 准确率: 0.39\n",
            "损失值: 0.023589, 准确率: 0.40\n",
            "损失值: 0.023785, 准确率: 0.40\n",
            "损失值: 0.023996, 准确率: 0.40\n",
            "损失值: 0.024148, 准确率: 0.41\n",
            "损失值: 0.024386, 准确率: 0.41\n",
            "损失值: 0.024560, 准确率: 0.41\n",
            "损失值: 0.024837, 准确率: 0.42\n",
            "损失值: 0.025086, 准确率: 0.42\n",
            "损失值: 0.025262, 准确率: 0.42\n",
            "损失值: 0.025509, 准确率: 0.43\n",
            "损失值: 0.025732, 准确率: 0.43\n",
            "损失值: 0.025917, 准确率: 0.43\n",
            "损失值: 0.026129, 准确率: 0.44\n",
            "损失值: 0.026306, 准确率: 0.44\n",
            "损失值: 0.026517, 准确率: 0.44\n",
            "损失值: 0.026690, 准确率: 0.45\n",
            "损失值: 0.026892, 准确率: 0.45\n",
            "损失值: 0.027101, 准确率: 0.45\n",
            "损失值: 0.027262, 准确率: 0.46\n",
            "损失值: 0.027517, 准确率: 0.46\n",
            "损失值: 0.027690, 准确率: 0.46\n",
            "损失值: 0.027897, 准确率: 0.46\n",
            "损失值: 0.028102, 准确率: 0.47\n",
            "损失值: 0.028237, 准确率: 0.47\n",
            "损失值: 0.028410, 准确率: 0.47\n",
            "损失值: 0.028608, 准确率: 0.48\n",
            "损失值: 0.028815, 准确率: 0.48\n",
            "损失值: 0.029036, 准确率: 0.48\n",
            "损失值: 0.029202, 准确率: 0.49\n",
            "损失值: 0.029387, 准确率: 0.49\n",
            "损失值: 0.029601, 准确率: 0.49\n",
            "损失值: 0.029717, 准确率: 0.50\n",
            "损失值: 0.029933, 准确率: 0.50\n",
            "损失值: 0.030141, 准确率: 0.50\n",
            "损失值: 0.030315, 准确率: 0.51\n",
            "损失值: 0.030532, 准确率: 0.51\n",
            "损失值: 0.030735, 准确率: 0.51\n"
          ]
        }
      ],
      "source": [
        "'''\n",
        "模型评估\n",
        "    1、统计测试集的损失值\n",
        "    2、获取预测结果\n",
        "    3、统计测试集准确个数\n",
        "    4、输出测试集的损失值和准确率\n",
        "'''\n",
        "model.eval()\n",
        "\n",
        "eval_loss = 0\n",
        "eval_acc = 0\n",
        "for data in test_loader:\n",
        "    img, label = data\n",
        "    if torch.cuda.is_available():\n",
        "        img = img.cuda()\n",
        "        label = label.cuda()\n",
        "        model.cuda()\n",
        "    img = img.view(img.size(0), -1)\n",
        "    out = model(img)\n",
        "    loss = criterion(out, label)\n",
        "    eval_loss = eval_loss + loss.item()\n",
        "    _, pred = torch.max(out, 1)\n",
        "    num_correct = (pred == label).sum()\n",
        "    eval_acc += num_correct.item()\n",
        "    print('损失值: {:.6f}, 准确率: {:.2f}'.format(eval_loss / (len(test_dataset)), eval_acc / (len(test_dataset))))"
      ]
    },
    {
      "cell_type": "code",
      "execution_count": null,
      "id": "1e070f24-e813-4ca2-884b-ea0913c66169",
      "metadata": {
        "colab": {
          "base_uri": "https://localhost:8080/",
          "height": 133
        },
        "id": "1e070f24-e813-4ca2-884b-ea0913c66169",
        "outputId": "b7149dfb-9a33-48d9-ee0b-c4ca00acc1b5"
      },
      "outputs": [
        {
          "output_type": "stream",
          "name": "stdout",
          "text": [
            "airplane\n"
          ]
        },
        {
          "output_type": "execute_result",
          "data": {
            "text/plain": [
              "<matplotlib.image.AxesImage at 0x7c477a6d2fe0>"
            ]
          },
          "metadata": {},
          "execution_count": 13
        },
        {
          "output_type": "display_data",
          "data": {
            "text/plain": [
              "<Figure size 100x100 with 1 Axes>"
            ],
            "image/png": "[encoded data removed]"
          },
          "metadata": {}
        }
      ],
      "source": [
        "'''\n",
        "预测数据\n",
        "    1、获取测试集中索引为10的图片和标签\n",
        "    2、展平测试数据\n",
        "    3、获取预测结果\n",
        "'''\n",
        "test_img, test_label = test_dataset[10]\n",
        "\n",
        "test_img1 = test_img.view(1, -1)\n",
        "test_img1 = test_img1.cuda()\n",
        "pred = model(test_img1)\n",
        "print(class_names[torch.argmax(pred)])\n",
        "\n",
        "plt.figure(figsize=(10, 10), dpi=10)\n",
        "B = test_img.numpy()[0,:,:] * 0.2023 + 0.4914\n",
        "G = test_img.numpy()[1,:,:] * 0.1994 + 0.4822\n",
        "R = test_img.numpy()[2,:,:] * 0.2010 + 0.4465\n",
        "RGB= np.stack((R, G, B), axis=-1)\n",
        "plt.imshow(RGB)"
      ]
    }
  ],
  "metadata": {
    "kernelspec": {
      "display_name": "Python 3",
      "name": "python3"
    },
    "language_info": {
      "name": "python"
    },
    "colab": {
      "provenance": [],
      "gpuType": "T4"
    },
    "accelerator": "GPU"
  },
  "nbformat": 4,
  "nbformat_minor": 5
}