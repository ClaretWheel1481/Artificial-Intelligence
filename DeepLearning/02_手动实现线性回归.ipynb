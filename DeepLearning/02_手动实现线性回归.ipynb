{
  "nbformat": 4,
  "nbformat_minor": 0,
  "metadata": {
    "colab": {
      "provenance": [],
      "authorship_tag": "ABX9TyNP/dC1P+1R2KlLfHAGQrsc"
    },
    "kernelspec": {
      "name": "python3",
      "display_name": "Python 3"
    },
    "language_info": {
      "name": "python"
    }
  },
  "cells": [
    {
      "cell_type": "markdown",
      "source": [
        "# **导入模型所需要的库**"
      ],
      "metadata": {
        "id": "pUyybkaQaDjI"
      }
    },
    {
      "cell_type": "code",
      "execution_count": null,
      "metadata": {
        "colab": {
          "base_uri": "https://localhost:8080/"
        },
        "id": "a7Tr7OaAX-1a",
        "outputId": "5a5dfb56-cc21-4ff6-b371-4030ce3b434d"
      },
      "outputs": [
        {
          "output_type": "execute_result",
          "data": {
            "text/plain": [
              "<contextlib.ExitStack at 0x7850f2044520>"
            ]
          },
          "metadata": {},
          "execution_count": 12
        }
      ],
      "source": [
        "import numpy as np\n",
        "import matplotlib.pyplot as plt\n",
        "import torch\n",
        "\n",
        "plt.ion()"
      ]
    },
    {
      "cell_type": "markdown",
      "source": [
        "# **准备实验数据**"
      ],
      "metadata": {
        "id": "IpDb9pUGaHs_"
      }
    },
    {
      "cell_type": "code",
      "source": [
        "# 从2-10之间产生20个等差数列，形状改成[n,1]\n",
        "x = np.linspace(2,10,20).reshape(-1,1)  # 特征\n",
        "\n",
        "# y = ax + b, a = 2, b = 3\n",
        "y = 2 * x + 3 # 目标\n",
        "\n",
        "# 给目标值添加噪声，避免全部数据都在一条直线上\n",
        "y += np.random.randn(20,1) * 0.5"
      ],
      "metadata": {
        "id": "wPsfApAwYPwR"
      },
      "execution_count": null,
      "outputs": []
    },
    {
      "cell_type": "markdown",
      "source": [
        "# **可视化数据**"
      ],
      "metadata": {
        "id": "zZn9a4KHaKMY"
      }
    },
    {
      "cell_type": "code",
      "source": [
        "plt.scatter(x,y)"
      ],
      "metadata": {
        "colab": {
          "base_uri": "https://localhost:8080/",
          "height": 448
        },
        "id": "BpofP6NNYRuq",
        "outputId": "d0d6f117-3842-42d0-f1d7-c142a4124d1c"
      },
      "execution_count": null,
      "outputs": [
        {
          "output_type": "execute_result",
          "data": {
            "text/plain": [
              "<matplotlib.collections.PathCollection at 0x7850f204c850>"
            ]
          },
          "metadata": {},
          "execution_count": 14
        },
        {
          "output_type": "display_data",
          "data": {
            "text/plain": [
              "<Figure size 640x480 with 1 Axes>"
            ],
            "image/png": "[encoded data removed]"
          },
          "metadata": {}
        }
      ]
    },
    {
      "cell_type": "markdown",
      "source": [
        "# **搭建模型**"
      ],
      "metadata": {
        "id": "DHURPAZqYe-X"
      }
    },
    {
      "cell_type": "code",
      "source": [
        "class LinearModel:\n",
        "  def __init__(self):\n",
        "    self.w = np.random.randn()\n",
        "    self.b = np.random.randn()\n",
        "\n",
        "  def model(self,x):\n",
        "    # 构建线性回归模型\n",
        "    return self.w * x + self.b\n",
        "\n",
        "  def loss(self,x,y):\n",
        "    # 计算预测值与真实值的误差\n",
        "    cost = (self.model(x) - y) **2\n",
        "\n",
        "    # 求w和b的偏导数\n",
        "    g_w = 2 * (self.model(x) - y) * x\n",
        "    g_b = 2 * (self.model(x) - y)\n",
        "    return cost,g_w,g_b"
      ],
      "metadata": {
        "id": "YEVcov9UYfzN"
      },
      "execution_count": null,
      "outputs": []
    },
    {
      "cell_type": "code",
      "source": [
        "model = LinearModel()"
      ],
      "metadata": {
        "id": "OJMr5XHgag01"
      },
      "execution_count": null,
      "outputs": []
    }
  ]
}