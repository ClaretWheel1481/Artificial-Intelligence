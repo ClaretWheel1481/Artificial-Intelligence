{
  "nbformat": 4,
  "nbformat_minor": 0,
  "metadata": {
    "colab": {
      "provenance": [],
      "gpuType": "T4",
      "authorship_tag": "ABX9TyOAJqB8TrnBDODMffYckSXf",
      "include_colab_link": true
    },
    "kernelspec": {
      "name": "python3",
      "display_name": "Python 3"
    },
    "language_info": {
      "name": "python"
    },
    "accelerator": "GPU"
  },
  "cells": [
    {
      "cell_type": "markdown",
      "metadata": {
        "id": "view-in-github",
        "colab_type": "text"
      },
      "source": [
        "<a href=\"https://colab.research.google.com/github/ClaretWheel1481/Artificial-Intelligence/blob/main/04_%E6%89%8B%E5%86%99%E4%BD%93%E6%95%B0%E5%AD%97%E9%A2%84%E6%B5%8B.ipynb\" target=\"_parent\"><img src=\"https://colab.research.google.com/assets/colab-badge.svg\" alt=\"Open In Colab\"/></a>"
      ]
    },
    {
      "cell_type": "code",
      "execution_count": 42,
      "metadata": {
        "id": "0Ozt1WbnDap_"
      },
      "outputs": [],
      "source": [
        "import torch\n",
        "import matplotlib.pyplot as plt\n",
        "import numpy as np\n",
        "from torchvision import datasets, transforms\n",
        "from torch.utils.data import DataLoader"
      ]
    },
    {
      "cell_type": "code",
      "source": [
        "# 数据预处理\n",
        "# Compose: 将各种预处理操作组成到一起\n",
        "# ToTensor(): 将图片数据转成Pytorch中的处理对象Tensor，并且做归一化（数据在0~1）\n",
        "# Normalize: 做标准化，进行了减均值，除标准差\n",
        "data_tf = transforms.Compose([\n",
        "    transforms.ToTensor(),\n",
        "    transforms.Normalize([0.5], [0.5])\n",
        "])"
      ],
      "metadata": {
        "id": "3sC5NNu3EjRD"
      },
      "execution_count": 43,
      "outputs": []
    },
    {
      "cell_type": "code",
      "source": [
        "# 加载数据\n",
        "train_dataset = datasets.MNIST(\n",
        "    root='./',\n",
        "    train=True,\n",
        "    transform=data_tf,\n",
        "    download=True\n",
        ")\n",
        "\n",
        "test_dataset = datasets.MNIST(\n",
        "    root='./',\n",
        "    train=False,\n",
        "    transform=data_tf,\n",
        "    download=False\n",
        ")"
      ],
      "metadata": {
        "id": "-iaCACn2FHiP"
      },
      "execution_count": 44,
      "outputs": []
    },
    {
      "cell_type": "code",
      "source": [
        "test_dataset"
      ],
      "metadata": {
        "colab": {
          "base_uri": "https://localhost:8080/"
        },
        "id": "xFXqUztSFXkc",
        "outputId": "11915dfc-b9de-4e43-da30-586eeca00608"
      },
      "execution_count": 45,
      "outputs": [
        {
          "output_type": "execute_result",
          "data": {
            "text/plain": [
              "Dataset MNIST\n",
              "    Number of datapoints: 10000\n",
              "    Root location: ./\n",
              "    Split: Test\n",
              "    StandardTransform\n",
              "Transform: Compose(\n",
              "               ToTensor()\n",
              "               Normalize(mean=[0.5], std=[0.5])\n",
              "           )"
            ]
          },
          "metadata": {},
          "execution_count": 45
        }
      ]
    },
    {
      "cell_type": "code",
      "source": [
        "# 数据分批次\n",
        "train_loader = DataLoader(train_dataset, batch_size=64, shuffle=True)\n",
        "test_loader = DataLoader(test_dataset, batch_size=128, shuffle=False)"
      ],
      "metadata": {
        "id": "SXxIY30AGLtL"
      },
      "execution_count": 46,
      "outputs": []
    },
    {
      "cell_type": "code",
      "source": [
        "# 数据可视化\n",
        "data, label = train_dataset[0]\n",
        "print(label)\n",
        "plt.imshow(data.numpy().squeeze(), cmap='gray')"
      ],
      "metadata": {
        "colab": {
          "base_uri": "https://localhost:8080/",
          "height": 467
        },
        "id": "4da6YI4rG1FS",
        "outputId": "10744273-c1cb-4f6c-f1a8-ec2af2e0c92e"
      },
      "execution_count": 47,
      "outputs": [
        {
          "output_type": "stream",
          "name": "stdout",
          "text": [
            "5\n"
          ]
        },
        {
          "output_type": "execute_result",
          "data": {
            "text/plain": [
              "<matplotlib.image.AxesImage at 0x7a25401c8640>"
            ]
          },
          "metadata": {},
          "execution_count": 47
        },
        {
          "output_type": "display_data",
          "data": {
            "text/plain": [
              "<Figure size 640x480 with 1 Axes>"
            ],
            "image/png": "[encoded data removed]"
          },
          "metadata": {}
        }
      ]
    },
    {
      "cell_type": "code",
      "source": [
        "# 搭建全连接神经网络\n",
        "class BaseNet(torch.nn.Module):\n",
        "  def __init__(self, in_dim, n_hidden_1, n_hidden_2, out_dim):\n",
        "    super().__init__()\n",
        "    self.layer1 = torch.nn.Sequential(torch.nn.Linear(in_dim, n_hidden_1), torch.nn.ReLU())\n",
        "    self.layer2 = torch.nn.Sequential(torch.nn.Linear(n_hidden_1, n_hidden_2), torch.nn.ReLU())\n",
        "    self.layer3 = torch.nn.Sequential(torch.nn.Linear(n_hidden_2, out_dim))\n",
        "\n",
        "  def forward(self,x):\n",
        "    x = self.layer1(x)\n",
        "    x = self.layer2(x)\n",
        "    x = self.layer3(x)\n",
        "    return x"
      ],
      "metadata": {
        "id": "KknZgM3qG-oi"
      },
      "execution_count": 48,
      "outputs": []
    },
    {
      "cell_type": "code",
      "source": [
        "model = BaseNet(in_dim=28*28, n_hidden_1=300, n_hidden_2=100, out_dim=10)"
      ],
      "metadata": {
        "id": "f2yq3petQQeQ"
      },
      "execution_count": 49,
      "outputs": []
    },
    {
      "cell_type": "code",
      "source": [
        "model"
      ],
      "metadata": {
        "colab": {
          "base_uri": "https://localhost:8080/"
        },
        "id": "CE4Cbap7QdAv",
        "outputId": "c0eecab6-f7e1-4b18-f84a-40808b04e7c3"
      },
      "execution_count": 50,
      "outputs": [
        {
          "output_type": "execute_result",
          "data": {
            "text/plain": [
              "BaseNet(\n",
              "  (layer1): Sequential(\n",
              "    (0): Linear(in_features=784, out_features=300, bias=True)\n",
              "    (1): ReLU()\n",
              "  )\n",
              "  (layer2): Sequential(\n",
              "    (0): Linear(in_features=300, out_features=100, bias=True)\n",
              "    (1): ReLU()\n",
              "  )\n",
              "  (layer3): Sequential(\n",
              "    (0): Linear(in_features=100, out_features=10, bias=True)\n",
              "  )\n",
              ")"
            ]
          },
          "metadata": {},
          "execution_count": 50
        }
      ]
    },
    {
      "cell_type": "code",
      "source": [
        "# 定义损失函数和优化器\n",
        "criterion = torch.nn.CrossEntropyLoss()\n",
        "optimizer = torch.optim.SGD(model.parameters(), lr=0.02)"
      ],
      "metadata": {
        "id": "E3EE_uOvQlkF"
      },
      "execution_count": 51,
      "outputs": []
    },
    {
      "cell_type": "markdown",
      "source": [
        "## **模型训练**"
      ],
      "metadata": {
        "id": "sl0iI5GFRCAq"
      }
    },
    {
      "cell_type": "code",
      "source": [
        "epochs = 10\n",
        "\n",
        "for epoch in range(epochs):\n",
        "\n",
        "  loss_list = []\n",
        "\n",
        "  # 得到每个批次的数据\n",
        "  for data in train_loader:\n",
        "    # 得到每个批次的特征值和目标值\n",
        "    img,label = data\n",
        "\n",
        "    # 判断是否用GPU训练\n",
        "    if torch.cuda.is_available():\n",
        "      img = img.cuda()\n",
        "      label = label.cuda()\n",
        "      model.cuda()\n",
        "\n",
        "    # 将输入数据展平\n",
        "    img = img.view(img.size(0), -1)\n",
        "\n",
        "    # 传入模型得到预测结果\n",
        "    out = model(img)\n",
        "\n",
        "    # 计算损失值\n",
        "    loss = criterion(out,label.long())\n",
        "    loss_list.append(loss.cpu().item())\n",
        "\n",
        "    # 梯度清零\n",
        "    optimizer.zero_grad()\n",
        "\n",
        "    # 误差反向传播\n",
        "    loss.backward()\n",
        "\n",
        "    # 计算梯度更新参数\n",
        "    optimizer.step()\n",
        "\n",
        "  # 输出每个Epoch\n",
        "  print(f'Epoch: {epoch+1}\\tLoss: {np.mean(loss_list):.4f}')"
      ],
      "metadata": {
        "colab": {
          "base_uri": "https://localhost:8080/"
        },
        "id": "gfq7iXihQ9G7",
        "outputId": "9af72f37-3fd2-4e26-b15e-47021ce3b287"
      },
      "execution_count": 53,
      "outputs": [
        {
          "output_type": "stream",
          "name": "stdout",
          "text": [
            "Epoch: 1\tLoss: 0.3156\n",
            "Epoch: 2\tLoss: 0.2569\n",
            "Epoch: 3\tLoss: 0.2124\n",
            "Epoch: 4\tLoss: 0.1782\n",
            "Epoch: 5\tLoss: 0.1525\n",
            "Epoch: 6\tLoss: 0.1328\n",
            "Epoch: 7\tLoss: 0.1168\n",
            "Epoch: 8\tLoss: 0.1054\n",
            "Epoch: 9\tLoss: 0.0940\n",
            "Epoch: 10\tLoss: 0.0856\n"
          ]
        }
      ]
    }
  ]
}
