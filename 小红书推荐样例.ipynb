{
  "nbformat": 4,
  "nbformat_minor": 0,
  "metadata": {
    "colab": {
      "provenance": [],
      "authorship_tag": "ABX9TyMri+oRulnqqtMI+VF3ls38",
      "include_colab_link": true
    },
    "kernelspec": {
      "name": "python3",
      "display_name": "Python 3"
    },
    "language_info": {
      "name": "python"
    }
  },
  "cells": [
    {
      "cell_type": "markdown",
      "metadata": {
        "id": "view-in-github",
        "colab_type": "text"
      },
      "source": [
        "<a href=\"https://colab.research.google.com/github/ClaretWheel1481/Artificial-Intelligence/blob/main/%E5%B0%8F%E7%BA%A2%E4%B9%A6%E6%8E%A8%E8%8D%90%E6%A0%B7%E4%BE%8B.ipynb\" target=\"_parent\"><img src=\"https://colab.research.google.com/assets/colab-badge.svg\" alt=\"Open In Colab\"/></a>"
      ]
    },
    {
      "cell_type": "markdown",
      "source": [
        "**Import.**"
      ],
      "metadata": {
        "id": "QSt9sRmury-M"
      }
    },
    {
      "cell_type": "code",
      "execution_count": 2,
      "metadata": {
        "id": "rrY0auPNfhnt"
      },
      "outputs": [],
      "source": [
        "import numpy as np\n",
        "import pandas as pd\n",
        "from sklearn.metrics.pairwise import cosine_similarity"
      ]
    },
    {
      "cell_type": "markdown",
      "source": [
        "**Generate Data Method.**"
      ],
      "metadata": {
        "id": "H4P8QT6DrcWK"
      }
    },
    {
      "cell_type": "code",
      "source": [
        "# Data Generate\n",
        "def generate_data():\n",
        "  # 设置用户标签\n",
        "  user_tags = pd.DataFrame({\n",
        "      '美妆':[1,0,0,1,0],\n",
        "      '时尚':[0,1,0,0,1],\n",
        "      '旅行':[0,0,1,0,0],\n",
        "      '美食':[1,1,0,0,0],\n",
        "      '健康':[0,0,1,1,0]\n",
        "  },index=[f'用户{i+1}' for i in range(5)])\n",
        "\n",
        "  # 设置商品标签\n",
        "  item_tags = pd.DataFrame({\n",
        "      '美妆':[1,0,0,1,0],\n",
        "      '时尚':[0,1,1,0,1],\n",
        "      '旅行':[0,0,1,0,0],\n",
        "      '美食':[0,0,0,1,0],\n",
        "      '健康':[1,0,0,0,1]\n",
        "  },index=[f'商品{i+1}' for i in range(5)])\n",
        "\n",
        "  return user_tags,item_tags"
      ],
      "metadata": {
        "id": "iMlQCufLllIJ"
      },
      "execution_count": 3,
      "outputs": []
    }
  ]
}