{
  "nbformat": 4,
  "nbformat_minor": 0,
  "metadata": {
    "colab": {
      "provenance": [],
      "authorship_tag": "ABX9TyPG2L+0UhLtVgDWWz9uLxT5",
      "include_colab_link": true
    },
    "kernelspec": {
      "name": "python3",
      "display_name": "Python 3"
    },
    "language_info": {
      "name": "python"
    }
  },
  "cells": [
    {
      "cell_type": "markdown",
      "metadata": {
        "id": "view-in-github",
        "colab_type": "text"
      },
      "source": [
        "<a href=\"https://colab.research.google.com/github/ClaretWheel1481/Artificial-Intelligence/blob/main/%E5%B0%8F%E7%BA%A2%E4%B9%A6%E6%8E%A8%E8%8D%90%E6%A0%B7%E4%BE%8B.ipynb\" target=\"_parent\"><img src=\"https://colab.research.google.com/assets/colab-badge.svg\" alt=\"Open In Colab\"/></a>"
      ]
    },
    {
      "cell_type": "markdown",
      "source": [
        "**Import.**"
      ],
      "metadata": {
        "id": "QSt9sRmury-M"
      }
    },
    {
      "cell_type": "code",
      "execution_count": 2,
      "metadata": {
        "id": "rrY0auPNfhnt"
      },
      "outputs": [],
      "source": [
        "import numpy as np\n",
        "import pandas as pd\n",
        "from sklearn.metrics.pairwise import cosine_similarity"
      ]
    },
    {
      "cell_type": "markdown",
      "source": [
        "**Generate Data Method.**"
      ],
      "metadata": {
        "id": "H4P8QT6DrcWK"
      }
    },
    {
      "cell_type": "code",
      "source": [
        "# Data Generate\n",
        "def generate_data():\n",
        "  # 设置用户标签\n",
        "  user_tags = pd.DataFrame({\n",
        "      '美妆':[1,0,0,1,0],\n",
        "      '时尚':[0,1,0,0,1],\n",
        "      '旅行':[0,0,1,0,0],\n",
        "      '美食':[1,1,0,0,0],\n",
        "      '健康':[0,0,1,1,0]\n",
        "  },index=[f'用户{i+1}' for i in range(5)])\n",
        "\n",
        "  # 设置商品标签\n",
        "  item_tags = pd.DataFrame({\n",
        "      '美妆':[1,0,0,1,0],\n",
        "      '时尚':[0,1,1,0,1],\n",
        "      '旅行':[0,0,1,0,0],\n",
        "      '美食':[0,0,0,1,0],\n",
        "      '健康':[1,0,0,0,1]\n",
        "  },index=[f'商品{i+1}' for i in range(5)])\n",
        "\n",
        "  return user_tags,item_tags"
      ],
      "metadata": {
        "id": "iMlQCufLllIJ"
      },
      "execution_count": 3,
      "outputs": []
    },
    {
      "cell_type": "markdown",
      "source": [
        "**Calculating similarity**"
      ],
      "metadata": {
        "id": "6vBWZYyy0MhO"
      }
    },
    {
      "cell_type": "code",
      "source": [
        "def calculate_similarity(user_tags,item_tags):\n",
        "  similarity = cosine_similarity(user_tags,item_tags)\n",
        "  similarity_df = pd.DataFrame(similarity,columns=item_tags.index,index=user_tags.index)\n",
        "  return similarity_df"
      ],
      "metadata": {
        "id": "YSbW-txaz7fl"
      },
      "execution_count": 4,
      "outputs": []
    },
    {
      "cell_type": "markdown",
      "source": [
        "**Generating Recommendations**"
      ],
      "metadata": {
        "id": "ORaz0EZy0o8d"
      }
    },
    {
      "cell_type": "code",
      "source": [
        "def generate_recommendations(user_id,similarity_df,top_n=3):\n",
        "  user_similarity = similarity_df.loc[user_id]\n",
        "  recommendations = user_similarity.nlargest(top_n).index\n",
        "  return recommendations"
      ],
      "metadata": {
        "id": "zh0nOWAv0kRP"
      },
      "execution_count": 5,
      "outputs": []
    },
    {
      "cell_type": "code",
      "source": [
        "def main():\n",
        "  # 生成数据\n",
        "  user_tags,item_tags = generate_data()\n",
        "\n",
        "  # 计算相似度\n",
        "  similarity = calculate_similarity(user_tags,item_tags)\n",
        "  print(\"用户与商品的相似度为：\",similarity)\n",
        "\n",
        "  #为用户1生成推荐"
      ],
      "metadata": {
        "id": "PkFNq7nX1Fzz"
      },
      "execution_count": 6,
      "outputs": []
    }
  ]
}