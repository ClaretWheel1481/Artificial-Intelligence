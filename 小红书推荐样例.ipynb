{
  "nbformat": 4,
  "nbformat_minor": 0,
  "metadata": {
    "colab": {
      "provenance": [],
      "authorship_tag": "ABX9TyM2wjUTZVrrabsbw2Rwed37",
      "include_colab_link": true
    },
    "kernelspec": {
      "name": "python3",
      "display_name": "Python 3"
    },
    "language_info": {
      "name": "python"
    }
  },
  "cells": [
    {
      "cell_type": "markdown",
      "metadata": {
        "id": "view-in-github",
        "colab_type": "text"
      },
      "source": [
        "<a href=\"https://colab.research.google.com/github/ClaretWheel1481/Artificial-Intelligence/blob/main/%E5%B0%8F%E7%BA%A2%E4%B9%A6%E6%8E%A8%E8%8D%90%E6%A0%B7%E4%BE%8B.ipynb\" target=\"_parent\"><img src=\"https://colab.research.google.com/assets/colab-badge.svg\" alt=\"Open In Colab\"/></a>"
      ]
    },
    {
      "cell_type": "markdown",
      "source": [
        "**Import.**"
      ],
      "metadata": {
        "id": "QSt9sRmury-M"
      }
    },
    {
      "cell_type": "code",
      "execution_count": 2,
      "metadata": {
        "id": "rrY0auPNfhnt"
      },
      "outputs": [],
      "source": [
        "import numpy as np\n",
        "import pandas as pd\n",
        "from sklearn.metrics.pairwise import cosine_similarity"
      ]
    },
    {
      "cell_type": "markdown",
      "source": [
        "**Generate Data Method.**"
      ],
      "metadata": {
        "id": "H4P8QT6DrcWK"
      }
    },
    {
      "cell_type": "code",
      "source": [
        "# Data Generate\n",
        "def generate_data():\n",
        "  # Set Users tag\n",
        "  user_tags = pd.DataFrame({\n",
        "      '美妆':[1,0,0,1,0],\n",
        "      '时尚':[0,1,0,0,1],\n",
        "      '旅行':[0,0,1,0,0],\n",
        "      '美食':[1,1,0,0,0],\n",
        "      '健康':[0,0,1,1,0]\n",
        "  },index=[f'User {i+1}' for i in range(5)])\n",
        "\n",
        "  # Set Items tag\n",
        "  item_tags = pd.DataFrame({\n",
        "      '美妆':[1,0,0,1,0],\n",
        "      '时尚':[0,1,1,0,1],\n",
        "      '旅行':[0,0,1,0,0],\n",
        "      '美食':[0,0,0,1,0],\n",
        "      '健康':[1,0,0,0,1]\n",
        "  },index=[f'Item {i+1}' for i in range(5)])\n",
        "\n",
        "  return user_tags,item_tags"
      ],
      "metadata": {
        "id": "iMlQCufLllIJ"
      },
      "execution_count": 21,
      "outputs": []
    },
    {
      "cell_type": "markdown",
      "source": [
        "**Calculating similarity with cosine.**"
      ],
      "metadata": {
        "id": "6vBWZYyy0MhO"
      }
    },
    {
      "cell_type": "code",
      "source": [
        "def calculate_similarity(user_tags,item_tags):\n",
        "  similarity = cosine_similarity(user_tags,item_tags)\n",
        "  similarity_df = pd.DataFrame(similarity,columns=item_tags.index,index=user_tags.index)\n",
        "  return similarity_df"
      ],
      "metadata": {
        "id": "YSbW-txaz7fl"
      },
      "execution_count": 20,
      "outputs": []
    },
    {
      "cell_type": "markdown",
      "source": [
        "**Generating Recommendations.**"
      ],
      "metadata": {
        "id": "ORaz0EZy0o8d"
      }
    },
    {
      "cell_type": "code",
      "source": [
        "def generate_recommendations(user_id,similarity_df,top_n=3):\n",
        "  # Get user similarity ratings for all items\n",
        "  user_similarity = similarity_df.loc[user_id]\n",
        "  # Get the similarity ratings of top_n items\n",
        "  recommendations = user_similarity.nlargest(top_n).index\n",
        "  return recommendations"
      ],
      "metadata": {
        "id": "zh0nOWAv0kRP"
      },
      "execution_count": 22,
      "outputs": []
    },
    {
      "cell_type": "code",
      "source": [
        "def main():\n",
        "  # Generate date\n",
        "  user_tags,item_tags = generate_data()\n",
        "\n",
        "  # Calculate similarity\n",
        "  similarity = calculate_similarity(user_tags,item_tags)\n",
        "  print(\"The similarity between users and items is：\\n\",similarity)\n",
        "\n",
        "  # Generate the recommendation for user 1\n",
        "  recommendations = generate_recommendations(\"User 1\",similarity)\n",
        "  print(f\"Recommended items for User 1 are:{list(recommendations)}\")\n",
        "\n",
        "main()"
      ],
      "metadata": {
        "colab": {
          "base_uri": "https://localhost:8080/"
        },
        "id": "PkFNq7nX1Fzz",
        "outputId": "e0a1594b-c6d9-4080-f340-7ef076ea3b9a"
      },
      "execution_count": 23,
      "outputs": [
        {
          "output_type": "stream",
          "name": "stdout",
          "text": [
            "The similarity between users and items is：\n",
            "         Item 1    Item 2    Item 3  Item 4    Item 5\n",
            "User 1     0.5  0.000000  0.000000     1.0  0.000000\n",
            "User 2     0.0  0.707107  0.500000     0.5  0.500000\n",
            "User 3     0.5  0.000000  0.500000     0.0  0.500000\n",
            "User 4     1.0  0.000000  0.000000     0.5  0.500000\n",
            "User 5     0.0  1.000000  0.707107     0.0  0.707107\n",
            "Recommended items for User 1 are:['Item 4', 'Item 1', 'Item 2']\n"
          ]
        }
      ]
    }
  ]
}