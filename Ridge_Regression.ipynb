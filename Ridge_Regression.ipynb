{
  "nbformat": 4,
  "nbformat_minor": 0,
  "metadata": {
    "colab": {
      "provenance": [],
      "authorship_tag": "ABX9TyMtjKVi1VaKzUNSCwI5+CNv",
      "include_colab_link": true
    },
    "kernelspec": {
      "name": "python3",
      "display_name": "Python 3"
    },
    "language_info": {
      "name": "python"
    }
  },
  "cells": [
    {
      "cell_type": "markdown",
      "metadata": {
        "id": "view-in-github",
        "colab_type": "text"
      },
      "source": [
        "<a href=\"https://colab.research.google.com/github/ClaretWheel1481/Artificial-Intelligence/blob/main/Ridge_Regression.ipynb\" target=\"_parent\"><img src=\"https://colab.research.google.com/assets/colab-badge.svg\" alt=\"Open In Colab\"/></a>"
      ]
    },
    {
      "cell_type": "markdown",
      "source": [
        "# **岭回归算法 Ridge Regression**\n",
        "根据标准线性回归中，通过**最小化真实值和预测值**的平方误差来训练模型，这个平方误差也称为残差平方和(RSS, Residual Sum of Squares)。\n",
        "<br>\n",
        "$ RSS = \\sum_{i=1}^n(y_{i}-\\hat{y}_{i})^2$\n",
        "\n"
      ],
      "metadata": {
        "id": "SWqKBmijIY_J"
      }
    },
    {
      "cell_type": "code",
      "execution_count": null,
      "metadata": {
        "id": "P0sgysbXIHV3"
      },
      "outputs": [],
      "source": []
    }
  ]
}