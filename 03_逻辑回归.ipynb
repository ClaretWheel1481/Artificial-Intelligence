{
  "nbformat": 4,
  "nbformat_minor": 0,
  "metadata": {
    "colab": {
      "provenance": [],
      "gpuType": "T4",
      "authorship_tag": "ABX9TyMK6QzgSwBtr9MMZPZEs9Rv",
      "include_colab_link": true
    },
    "kernelspec": {
      "name": "python3",
      "display_name": "Python 3"
    },
    "language_info": {
      "name": "python"
    },
    "accelerator": "GPU"
  },
  "cells": [
    {
      "cell_type": "markdown",
      "metadata": {
        "id": "view-in-github",
        "colab_type": "text"
      },
      "source": [
        "<a href=\"https://colab.research.google.com/github/ClaretWheel1481/Artificial-Intelligence/blob/main/03_%E9%80%BB%E8%BE%91%E5%9B%9E%E5%BD%92.ipynb\" target=\"_parent\"><img src=\"https://colab.research.google.com/assets/colab-badge.svg\" alt=\"Open In Colab\"/></a>"
      ]
    },
    {
      "cell_type": "code",
      "execution_count": null,
      "metadata": {
        "colab": {
          "base_uri": "https://localhost:8080/"
        },
        "id": "4acnU65UGJF6",
        "outputId": "83c7b70b-585f-4ceb-f7de-bfae54ecba6f"
      },
      "outputs": [
        {
          "output_type": "execute_result",
          "data": {
            "text/plain": [
              "<contextlib.ExitStack at 0x7ce81c71f280>"
            ]
          },
          "metadata": {},
          "execution_count": 1
        }
      ],
      "source": [
        "import torch\n",
        "import numpy as np\n",
        "import matplotlib.pyplot as plt\n",
        "\n",
        "plt.ion()"
      ]
    },
    {
      "cell_type": "code",
      "source": [
        "# 保证每次生成的随机数一致\n",
        "torch.manual_seed(10)\n",
        "\n",
        "# 随机生成两个特征\n",
        "x1 = torch.rand(200) * 2\n",
        "x2 = torch.rand(200) * 2"
      ],
      "metadata": {
        "id": "TyM7esK-Gb6D"
      },
      "execution_count": null,
      "outputs": []
    },
    {
      "cell_type": "code",
      "source": [
        "# 两个特征组合确定一个数据样本点在二维平面的位置\n",
        "data = zip(x1,x2)"
      ],
      "metadata": {
        "id": "hO-lrl9aGi-6"
      },
      "execution_count": null,
      "outputs": []
    },
    {
      "cell_type": "code",
      "source": [
        "# 将200个样本分成两类。根据纵坐标和横坐标的大小区分\n",
        "pos = []\n",
        "neg = []\n",
        "\n",
        "for i in data:\n",
        "  if(i[1] - i[0] < 0):  # 纵坐标小于横坐标\n",
        "    pos.append(i)\n",
        "  else:\n",
        "    neg.append(i)"
      ],
      "metadata": {
        "id": "1UgkVH3YGzEg"
      },
      "execution_count": null,
      "outputs": []
    },
    {
      "cell_type": "code",
      "source": [
        "pos_x = [i[0] for i in pos]\n",
        "pos_y = [i[1] for i in pos]\n",
        "neg_x = [i[0] for i in neg]\n",
        "neg_y = [i[1] for i in neg]\n",
        "\n",
        "plt.scatter(pos_x,pos_y,c='r',marker='+')\n",
        "plt.scatter(neg_x,neg_y,c='b',marker='^')\n",
        "plt.show()"
      ],
      "metadata": {
        "colab": {
          "base_uri": "https://localhost:8080/",
          "height": 430
        },
        "id": "DdrN0khVHFVm",
        "outputId": "0713307b-2e23-40a5-f200-7a785e93d008"
      },
      "execution_count": null,
      "outputs": [
        {
          "output_type": "display_data",
          "data": {
            "text/plain": [
              "<Figure size 640x480 with 1 Axes>"
            ],
            "image/png": "[encoded data removed]"
          },
          "metadata": {}
        }
      ]
    },
    {
      "cell_type": "code",
      "source": [
        "# 将正例设置为1，负例设置为0\n",
        "x_data = [[i[0],i[1]] for i in pos]\n",
        "x_data.extend([[i[0],i[1]] for i in neg])\n",
        "x_data = torch.Tensor(x_data)"
      ],
      "metadata": {
        "id": "0QwXcwRUHXWt"
      },
      "execution_count": null,
      "outputs": []
    },
    {
      "cell_type": "code",
      "source": [
        "y_data = [1 for i in range(len(pos))]\n",
        "y_data.extend([0 for i in range(len(neg))])\n",
        "y_data = torch.Tensor(y_data).view(-1,1)"
      ],
      "metadata": {
        "id": "YkvfUqqGH0j7"
      },
      "execution_count": null,
      "outputs": []
    },
    {
      "cell_type": "code",
      "source": [
        "class Logical_Regression(torch.nn.Module):\n",
        "  def __init__(self):\n",
        "    super(Logical_Regression,self).__init__()\n",
        "    # 实现线性回归\n",
        "    self.linear = torch.nn.Linear(2,1)\n",
        "\n",
        "    # sigmoid函数\n",
        "    self.sigmoid = torch.nn.Sigmoid()\n",
        "\n",
        "  def forward(self,x):\n",
        "    a = self.linear(x)\n",
        "    out = self.sigmoid(a)\n",
        "    return out"
      ],
      "metadata": {
        "id": "-Msx6ZxpIDdp"
      },
      "execution_count": null,
      "outputs": []
    },
    {
      "cell_type": "markdown",
      "source": [
        "# **模型配置**"
      ],
      "metadata": {
        "id": "uCGSJILfSCyH"
      }
    },
    {
      "cell_type": "code",
      "source": [
        "model = Logical_Regression()\n",
        "criterion = torch.nn.BCELoss()  # 二分类交叉熵损失函数\n",
        "optimizer = torch.optim.SGD(model.parameters(),lr=0.01) # 梯度下降算法"
      ],
      "metadata": {
        "id": "JSBFJ-wASAHs"
      },
      "execution_count": null,
      "outputs": []
    },
    {
      "cell_type": "markdown",
      "source": [
        "# **训练模型**"
      ],
      "metadata": {
        "id": "RdD2iFwWSb3Z"
      }
    },
    {
      "cell_type": "code",
      "source": [
        "for epoch in range(5001):  # 数据会被训练5000次\n",
        "  # 得到模型预测结果\n",
        "  y_pred = model(x_data)\n",
        "\n",
        "  # 计算损失值\n",
        "  loss = criterion(y_pred,y_data)\n",
        "\n",
        "  # 梯度清零\n",
        "  optimizer.zero_grad()\n",
        "\n",
        "  # 反向传播\n",
        "  loss.backward()\n",
        "\n",
        "  # 更新参数\n",
        "  optimizer.step()\n",
        "\n",
        "  # 每隔500个epoch，输出一次训练结果\n",
        "  if epoch % 500 == 0:\n",
        "    print(f'epoch:{epoch},loss:{loss.item()}')\n",
        "\n",
        "  plt.scatter(pos_x,pos_y,c='r',marker='+')\n",
        "  plt.scatter(neg_x,neg_y,c='b',marker='^')\n",
        "\n",
        "  # 绘制边界线\n",
        "  w = model.linear.weight[0]\n",
        "  b = model.linear.bias.item()\n",
        "  w1 = w[0]\n",
        "  w2 = w[1]\n",
        "\n",
        "  # x = torch.arange(0,3).view(-1,1)\n",
        "  # y = (-w1 * x - b) /w2\n",
        "\n",
        "  # plt.plot(x.detach().numpy(),y.detach().numpy())\n",
        "\n",
        "  # 在该模块中不会计算梯度\n",
        "  with torch.no_grad():\n",
        "    x = torch.arange(0,3).view(-1,1)\n",
        "    y = (-w1 * x - b) /w2\n",
        "    plt.plot(x.numpy(),y.numpy())\n",
        "\n",
        "  # 限制横纵坐标的范围\n",
        "  plt.xlim(0,2)\n",
        "  plt.ylim(0,2)\n",
        "\n",
        "  plt.pause(0.01)"
      ],
      "metadata": {
        "colab": {
          "base_uri": "https://localhost:8080/",
          "height": 1000
        },
        "id": "RIiVxiXySSyC",
        "outputId": "3bc6268f-5e19-4618-b71f-6693c4d459bf"
      },
      "execution_count": null,
      "outputs": []
    }
  ]
}